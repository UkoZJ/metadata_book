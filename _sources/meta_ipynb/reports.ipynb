{
 "cells": [
  {
   "cell_type": "markdown",
   "id": "identified-humanity",
   "metadata": {
    "papermill": {
     "duration": 0.012371,
     "end_time": "2021-12-23T14:24:10.961836",
     "exception": false,
     "start_time": "2021-12-23T14:24:10.949465",
     "status": "completed"
    },
    "tags": []
   },
   "source": [
    "# Metadata table"
   ]
  },
  {
   "cell_type": "code",
   "execution_count": 1,
   "id": "laden-mileage",
   "metadata": {
    "execution": {
     "iopub.execute_input": "2021-12-23T14:24:10.982385Z",
     "iopub.status.busy": "2021-12-23T14:24:10.981596Z",
     "iopub.status.idle": "2021-12-23T14:24:10.989843Z",
     "shell.execute_reply": "2021-12-23T14:24:10.988893Z"
    },
    "papermill": {
     "duration": 0.021941,
     "end_time": "2021-12-23T14:24:10.990077",
     "exception": false,
     "start_time": "2021-12-23T14:24:10.968136",
     "status": "completed"
    },
    "tags": [
     "remove-input"
    ]
   },
   "outputs": [],
   "source": [
    "# NO CODE\n",
    "from json2html import json2html\n",
    "import json, re\n",
    "from IPython.core.display import HTML, display"
   ]
  },
  {
   "cell_type": "code",
   "execution_count": 2,
   "id": "velvet-wednesday",
   "metadata": {
    "execution": {
     "iopub.execute_input": "2021-12-23T14:24:11.013859Z",
     "iopub.status.busy": "2021-12-23T14:24:11.012864Z",
     "iopub.status.idle": "2021-12-23T14:24:11.016468Z",
     "shell.execute_reply": "2021-12-23T14:24:11.017154Z"
    },
    "papermill": {
     "duration": 0.019127,
     "end_time": "2021-12-23T14:24:11.017388",
     "exception": false,
     "start_time": "2021-12-23T14:24:10.998261",
     "status": "completed"
    },
    "tags": [
     "parameters",
     "remove-input"
    ]
   },
   "outputs": [],
   "source": [
    "# NO CODE\n",
    "# PARAMETERS\n",
    "path = './meta/environment/meteocat_xema'"
   ]
  },
  {
   "cell_type": "code",
   "execution_count": 3,
   "id": "clean-status",
   "metadata": {
    "execution": {
     "iopub.execute_input": "2021-12-23T14:24:11.042568Z",
     "iopub.status.busy": "2021-12-23T14:24:11.041768Z",
     "iopub.status.idle": "2021-12-23T14:24:11.046223Z",
     "shell.execute_reply": "2021-12-23T14:24:11.045454Z"
    },
    "papermill": {
     "duration": 0.018676,
     "end_time": "2021-12-23T14:24:11.046379",
     "exception": false,
     "start_time": "2021-12-23T14:24:11.027703",
     "status": "completed"
    },
    "tags": [
     "injected-parameters"
    ]
   },
   "outputs": [],
   "source": [
    "# Parameters\n",
    "path = \"./meta/mosquito_alert/reports\"\n"
   ]
  },
  {
   "cell_type": "code",
   "execution_count": 4,
   "id": "durable-joseph",
   "metadata": {
    "execution": {
     "iopub.execute_input": "2021-12-23T14:24:11.076373Z",
     "iopub.status.busy": "2021-12-23T14:24:11.075361Z",
     "iopub.status.idle": "2021-12-23T14:24:11.101418Z",
     "shell.execute_reply": "2021-12-23T14:24:11.099218Z"
    },
    "papermill": {
     "duration": 0.047752,
     "end_time": "2021-12-23T14:24:11.101873",
     "exception": false,
     "start_time": "2021-12-23T14:24:11.054121",
     "status": "completed"
    },
    "tags": [
     "remove-input",
     "full-width"
    ]
   },
   "outputs": [
    {
     "data": {
      "text/html": [
       "<table border=\"1\"><tr><th>@context</th><td style=text-align:left><table border=\"1\"><tr><th>@vocab</th><td style=text-align:left>https://schema.org/</td></tr><tr><th>qudt</th><td style=text-align:left>http://qudt.org/schema/qudt/</td></tr><tr><th>xsd</th><td style=text-align:left>http://www.w3.org/2001/XMLSchema#</td></tr></table></td></tr><tr><th>@type</th><td style=text-align:left>Dataset</td></tr><tr><th>name</th><td style=text-align:left>ma_yearly_reports</td></tr><tr><th>conditionsOfAccess</th><td style=text-align:left>Public.</td></tr><tr><th>description</th><td style=text-align:left>Yearly reports from the Mosquito Alert application with information about bites, breeding sites and adult mosquito encounters.</td></tr><tr><th>url</th><td style=text-align:left>https://github.com/MosquitoAlert/Data</td></tr><tr><th>sameAs</th><td style=text-align:left>https://doi.org/10.5281/zenodo.597466</td></tr><tr><th>identifier</th><td style=text-align:left>https://doi.org/10.5281/zenodo.597466</td></tr><tr><th>license</th><td style=text-align:left>https://creativecommons.org/publicdomain/zero/1.0/</td></tr><tr><th>citation</th><td style=text-align:left><ul><li>Citizen science provides a reliable and scalable tool to track disease-carrying mosquitoes.  John R B, Palmer et al. 2017 (DOI: 10.1038/s41467-017-00914-9)</li></ul></td></tr><tr><th>creator</th><td style=text-align:left><ul><li><table border=\"1\"><tr><th>@type</th><td style=text-align:left>Organization</td></tr><tr><th>@id</th><td style=text-align:left>CEAB</td></tr><tr><th>name</th><td style=text-align:left>Consejo Superior de Investigaciones Científicas - Centro de Estudios Avanzados de Blanes (CSIC-CEAB)</td></tr></table></li><li><table border=\"1\"><tr><th>@type</th><td style=text-align:left>Person</td></tr><tr><th>@id</th><td style=text-align:left>JP</td></tr><tr><th>name</th><td style=text-align:left>Palmer, John Rossman Bertholf</td></tr></table></li><li><table border=\"1\"><tr><th>@type</th><td style=text-align:left>Person</td></tr><tr><th>@id</th><td style=text-align:left>AE</td></tr><tr><th>name</th><td style=text-align:left>Escobar Rúbies, Agustí</td></tr></table></li></ul></td></tr><tr><th>variableMeasured</th><td style=text-align:left><ul><li><table border=\"1\"><tr><th>@type</th><td style=text-align:left>PropertyValue</td></tr><tr><th>name</th><td style=text-align:left>version_UUID</td></tr><tr><th>description</th><td style=text-align:left>UUID randomly generated on phone to identify eachunique report version. Must be exactly 36 characters (32 hex digits plus4 hyphens). Example: D18007F8-FD36-4288-8876-E4314A7B86AA</td></tr><tr><th>dataType</th><td style=text-align:left>xsd:string</td></tr></table></li><li><table border=\"1\"><tr><th>@type</th><td style=text-align:left>PropertyValue</td></tr><tr><th>name</th><td style=text-align:left>creation_time</td></tr><tr><th>description</th><td style=text-align:left>Date and time on phone when first version of report was created. Format as [ECMA 262](http://ecma-international.org/ecma-262/5.1/#sec-15.9.1.15) date time string. Example: 2016-01-03T12:04:00.996Z</td></tr><tr><th>dataType</th><td style=text-align:left>xsd:dateTime</td></tr></table></li><li><table border=\"1\"><tr><th>@type</th><td style=text-align:left>PropertyValue</td></tr><tr><th>name</th><td style=text-align:left>creation_date</td></tr><tr><th>description</th><td style=text-align:left>Date part of creation_time string (provided separately simply for convenience) with YYYY-MM-DD format. Example: 2016-01-03 </td></tr><tr><th>dataType</th><td style=text-align:left>xsd:string</td></tr></table></li><li><table border=\"1\"><tr><th>@type</th><td style=text-align:left>PropertyValue</td></tr><tr><th>name</th><td style=text-align:left>creation_day_since_launch</td></tr><tr><th>description</th><td style=text-align:left>Creation_date expressed as number of days since 13June 2014 ,the day Mosquito Alert was launched (under its former name,Tigatrapp).</td></tr><tr><th>dataType</th><td style=text-align:left>xsd:int</td></tr></table></li><li><table border=\"1\"><tr><th>@type</th><td style=text-align:left>PropertyValue</td></tr><tr><th>name</th><td style=text-align:left>creation_year</td></tr><tr><th>description</th><td style=text-align:left>Year part of creation_time string (provided separately simply for convenience).</td></tr><tr><th>dataType</th><td style=text-align:left>xsd:int</td></tr></table></li><li><table border=\"1\"><tr><th>@type</th><td style=text-align:left>PropertyValue</td></tr><tr><th>name</th><td style=text-align:left>creation_month</td></tr><tr><th>description</th><td style=text-align:left>Month part of creation_time string (provided separately simply for convenience).</td></tr><tr><th>dataType</th><td style=text-align:left>xsd:int</td></tr></table></li><li><table border=\"1\"><tr><th>@type</th><td style=text-align:left>PropertyValue</td></tr><tr><th>name</th><td style=text-align:left>site_cat</td></tr><tr><th>description</th><td style=text-align:left>An integer indicating the type of breeding site (as recorded byparticipant): Either 0 (storm drain), 1 (fountain), 2 (small basin), 3(small container), 4 (well), or 5 (other).</td></tr><tr><th>dataType</th><td style=text-align:left>xsd:int</td></tr><tr><th>maxValue</th><td style=text-align:left>5</td></tr><tr><th>minValue</th><td style=text-align:left>0</td></tr></table></li><li><table border=\"1\"><tr><th>@type</th><td style=text-align:left>PropertyValue</td></tr><tr><th>name</th><td style=text-align:left>type</td></tr><tr><th>description</th><td style=text-align:left> Type of report: adult, site, mission or bite</td></tr><tr><th>dataType</th><td style=text-align:left>xsd:string</td></tr></table></li><li><table border=\"1\"><tr><th>@type</th><td style=text-align:left>PropertyValue</td></tr><tr><th>name</th><td style=text-align:left>lon</td></tr><tr><th>description</th><td style=text-align:left>Longitude of report location.</td></tr><tr><th>dataType</th><td style=text-align:left>xsd:decimal</td></tr></table></li><li><table border=\"1\"><tr><th>@type</th><td style=text-align:left>PropertyValue</td></tr><tr><th>name</th><td style=text-align:left>lat</td></tr><tr><th>description</th><td style=text-align:left>Latitude of report location.</td></tr><tr><th>dataType</th><td style=text-align:left>xsd:decimal</td></tr></table></li><li><table border=\"1\"><tr><th>@type</th><td style=text-align:left>PropertyValue</td></tr><tr><th>name</th><td style=text-align:left>movelab_annotation</td></tr><tr><th>description</th><td style=text-align:left>This field contains information from the validation process.</td></tr><tr><th>value</th><td style=text-align:left><ul><li><table border=\"1\"><tr><th>@type</th><td style=text-align:left>PropertyValue</td></tr><tr><th>name</th><td style=text-align:left>edited_user_notes</td></tr><tr><th>description</th><td style=text-align:left>Notes written by validation experts (or written by the participant who sent the report and then edited by validation experts) for display on pubic map.</td></tr><tr><th>unitText</th><td style=text-align:left></td></tr><tr><th>dataType</th><td style=text-align:left>xsd:string</td></tr></table></li><li><table border=\"1\"><tr><th>@type</th><td style=text-align:left>PropertyValue</td></tr><tr><th>name</th><td style=text-align:left>crowdcrafting_score_cat</td></tr><tr><th>description</th><td style=text-align:left>Tiger mosquito score category assigned to the photodisplayed in this report by crowdcrafting volunteers. The scorecategory is calculated based on the number of positive and negativeresponses to the questions, &#x27;Do you see a mosquito in this photo?&#x27; and&#x27;Is it a tiger mosquito?&#x27;. A &#x27;yes&#x27; to both questions is given a 1 and a&#x27;no&#x27; to either is given a -1. The score category is mean of theseresponses, normalized to range from [-2,2] and rounded to integervalues. For reports with multiple photos the score is for the photo thatthe expert validators selected as the one that best represents thereport.</td></tr><tr><th>unitText</th><td style=text-align:left></td></tr><tr><th>dataType</th><td style=text-align:left>xsd:string</td></tr><tr><th>maxValue</th><td style=text-align:left>2</td></tr><tr><th>minValue</th><td style=text-align:left>-2</td></tr></table></li><li><table border=\"1\"><tr><th>@type</th><td style=text-align:left>PropertyValue</td></tr><tr><th>name</th><td style=text-align:left>crowdcrafting_n_response</td></tr><tr><th>description</th><td style=text-align:left>Number of crowdcrafting volunteers who have scored the photo displayed in this report. For reports with multiple photos the score is for the photo that the expert validators selected as the one that best represents the report.</td></tr><tr><th>unitText</th><td style=text-align:left></td></tr><tr><th>dataType</th><td style=text-align:left>xsd:int</td></tr></table></li><li><table border=\"1\"><tr><th>@type</th><td style=text-align:left>PropertyValue</td></tr><tr><th>name</th><td style=text-align:left>site_certainty_category</td></tr><tr><th>description</th><td style=text-align:left>If this is a breeding site report, the degree of belief of experts that at least one photo attached to the report showsan albopictus or aegypti breeding site. Value definitions: (2,&#x27;Definitely a breeding site&#x27;), (1, &#x27;Probably a breeding site&#x27;), (0, &#x27;Notsure&#x27;), (-1, &#x27;Probably not a breeding site&#x27;), (-2, &#x27;Definitely not abreeding site&#x27;), (-3, &#x27;No score&#x27;))</td></tr><tr><th>unitText</th><td style=text-align:left></td></tr><tr><th>dataType</th><td style=text-align:left>xsd:int</td></tr><tr><th>maxValue</th><td style=text-align:left>2</td></tr><tr><th>minValue</th><td style=text-align:left>-3</td></tr></table></li><li><table border=\"1\"><tr><th>@type</th><td style=text-align:left>PropertyValue</td></tr><tr><th>name</th><td style=text-align:left>tiger_certainty_category</td></tr><tr><th>description</th><td style=text-align:left>If this is a adult mosquito report, the degree of belief of experts that at least one photo attached to the report shows a tiger mosquito. Value definitions: (2, &#x27;Definitely a tiger mosquito&#x27;), (1, &#x27;Probably a tiger mosquito&#x27;), (0, &#x27;Not sure&#x27;), (-1, &#x27;Probably not a tiger mosquito&#x27;), (-2,&#x27;Definitely not a tiger mosquito&#x27;), (-3, &#x27;No score&#x27;))</td></tr><tr><th>unitText</th><td style=text-align:left></td></tr><tr><th>dataType</th><td style=text-align:left>xsd:int</td></tr><tr><th>maxValue</th><td style=text-align:left>2</td></tr><tr><th>minValue</th><td style=text-align:left>-3</td></tr></table></li><li><table border=\"1\"><tr><th>@type</th><td style=text-align:left>PropertyValue</td></tr><tr><th>name</th><td style=text-align:left>aegypti_certainty_category</td></tr><tr><th>description</th><td style=text-align:left>If this is an adult mosquito report, the degree of belief of experts that at least one photo attached to the report shows an Aedes aegypti adult. Value definitions: (2, &#x27;Definitely aegypti&#x27;), (1, &#x27;Probably aegypti&#x27;), (0, &#x27;Not sure&#x27;), (-1, &#x27;Probably not aegypti&#x27;), (-2, &#x27;Definitely not aegypti&#x27;), (-3, &#x27;No score&#x27;))</td></tr><tr><th>unitText</th><td style=text-align:left></td></tr><tr><th>dataType</th><td style=text-align:left>xsd:int</td></tr><tr><th>maxValue</th><td style=text-align:left>2</td></tr><tr><th>minValue</th><td style=text-align:left>-3</td></tr></table></li><li><table border=\"1\"><tr><th>@type</th><td style=text-align:left>PropertyValue</td></tr><tr><th>name</th><td style=text-align:left>photo_html</td></tr><tr><th>description</th><td style=text-align:left>An HTML string that produces a small version of the selected report photo that is linked to the original (full-size) version. For reports with multiple photos, the selected report photo is the photo selected by the expert validators as best representative of the report subject.</td></tr><tr><th>unitText</th><td style=text-align:left></td></tr><tr><th>dataType</th><td style=text-align:left>xsd:anyURI</td></tr></table></li><li><table border=\"1\"><tr><th>@type</th><td style=text-align:left>PropertyValue</td></tr><tr><th>name</th><td style=text-align:left>score</td></tr><tr><th>description</th><td style=text-align:left></td></tr><tr><th>unitText</th><td style=text-align:left></td></tr><tr><th>dataType</th><td style=text-align:left>xsd:string</td></tr></table></li><li><table border=\"1\"><tr><th>@type</th><td style=text-align:left>PropertyValue</td></tr><tr><th>name</th><td style=text-align:left>classification</td></tr><tr><th>description</th><td style=text-align:left></td></tr><tr><th>unitText</th><td style=text-align:left></td></tr><tr><th>dataType</th><td style=text-align:left>xsd:string</td></tr></table></li></ul></td></tr></table></li><li><table border=\"1\"><tr><th>@type</th><td style=text-align:left>PropertyValue</td></tr><tr><th>name</th><td style=text-align:left>movelab_annotation_euro</td></tr><tr><th>description</th><td style=text-align:left></td></tr><tr><th>value</th><td style=text-align:left><ul><li><table border=\"1\"><tr><th>@type</th><td style=text-align:left>PropertyValue</td></tr><tr><th>name</th><td style=text-align:left>edited_user_notes</td></tr><tr><th>description</th><td style=text-align:left>Notes written by validation experts (or written by the participant who sent the report and then edited by validation experts) for display on pubic map.</td></tr><tr><th>unitText</th><td style=text-align:left></td></tr><tr><th>dataType</th><td style=text-align:left>xsd:string</td></tr></table></li><li><table border=\"1\"><tr><th>@type</th><td style=text-align:left>PropertyValue</td></tr><tr><th>name</th><td style=text-align:left>photo_html</td></tr><tr><th>description</th><td style=text-align:left>An HTML string that produces a small version of the selected report photo that is linked to the original (full-size) version. For reports with multiple photos, the selected report photo is the photo selected by the expert validators as best representative of the report subject.</td></tr><tr><th>unitText</th><td style=text-align:left></td></tr><tr><th>dataType</th><td style=text-align:left>xsd:anyURI</td></tr></table></li><li><table border=\"1\"><tr><th>@type</th><td style=text-align:left>PropertyValue</td></tr><tr><th>name</th><td style=text-align:left>class_name</td></tr><tr><th>description</th><td style=text-align:left>Name of the classification label. Available mosquito species labels are: Unclassified (id:1), Other species (id:2), Aedes albopictus (id:3), Aedes aegypti (id:5), Aedes japonicus (id:6), Aedes koreicus (id:7), Complex (id:8), Not sure (id:9), Culex sp. (id:10). Available breeding site labels are: site (id: Null)</td></tr><tr><th>unitText</th><td style=text-align:left></td></tr><tr><th>dataType</th><td style=text-align:left>xsd:string</td></tr></table></li><li><table border=\"1\"><tr><th>@type</th><td style=text-align:left>PropertyValue</td></tr><tr><th>name</th><td style=text-align:left>class_label</td></tr><tr><th>description</th><td style=text-align:left></td></tr><tr><th>unitText</th><td style=text-align:left></td></tr><tr><th>dataType</th><td style=text-align:left>xsd:string</td></tr></table></li><li><table border=\"1\"><tr><th>@type</th><td style=text-align:left>PropertyValue</td></tr><tr><th>name</th><td style=text-align:left>class_id</td></tr><tr><th>description</th><td style=text-align:left></td></tr><tr><th>unitText</th><td style=text-align:left></td></tr><tr><th>dataType</th><td style=text-align:left>xsd:int</td></tr></table></li><li><table border=\"1\"><tr><th>@type</th><td style=text-align:left>PropertyValue</td></tr><tr><th>name</th><td style=text-align:left>class_value</td></tr><tr><th>description</th><td style=text-align:left></td></tr><tr><th>unitText</th><td style=text-align:left></td></tr><tr><th>dataType</th><td style=text-align:left>xsd:int</td></tr></table></li></ul></td></tr></table></li><li><table border=\"1\"><tr><th>@type</th><td style=text-align:left>PropertyValue</td></tr><tr><th>name</th><td style=text-align:left>tiger_responses</td></tr><tr><th>description</th><td style=text-align:left>Similar to &#x27;tiger_responses_text&#x27; attribute but it is a preprocessed version with the aim of beeing ML-friendly. In case of doubt, refere better to &#x27;tiger_responses_text&#x27;.</td></tr><tr><th>dataType</th><td style=text-align:left>xsd:string</td></tr></table></li><li><table border=\"1\"><tr><th>@type</th><td style=text-align:left>PropertyValue</td></tr><tr><th>name</th><td style=text-align:left>tiger_responses_text</td></tr><tr><th>description</th><td style=text-align:left>Adult mosquito related user responses stored in json format with the following keys: &#x27;id&#x27; identifier; &#x27;translated_question&#x27; question as it was in the app, translated to the same language the app was when uploading the report (if the app is in a language which have not translation yet, it defaults to english); &#x27;translated_answer&#x27; user&#x27;s answer to the question; &#x27;question_id&#x27; question identifier;  &#x27;question&#x27; text format question in default language; &#x27;answer_id&#x27; answer identifier; &#x27;answer&#x27; text format answer in default language; &#x27;answer_value&#x27; integer value relative to the answer; &#x27;report&#x27; identifier of the report.</td></tr><tr><th>dataType</th><td style=text-align:left>xsd:string</td></tr></table></li><li><table border=\"1\"><tr><th>@type</th><td style=text-align:left>PropertyValue</td></tr><tr><th>name</th><td style=text-align:left>site_responses</td></tr><tr><th>description</th><td style=text-align:left>Similar to &#x27;site_responses_text&#x27; attribute but it is a preprocessed version with the aim of beeing ML-friendly. In case of doubt, refere better to &#x27;site_responses_text&#x27;.</td></tr><tr><th>dataType</th><td style=text-align:left>xsd:string</td></tr></table></li><li><table border=\"1\"><tr><th>@type</th><td style=text-align:left>PropertyValue</td></tr><tr><th>name</th><td style=text-align:left>site_responses_text</td></tr><tr><th>description</th><td style=text-align:left>Breeding site related user responses stored in json format with the following keys: &#x27;id&#x27; identifier; &#x27;translated_question&#x27; question as it was in the app, translated to the same language the app was when uploading the report (if the app is in a language which have not translation yet, it defaults to english); &#x27;translated_answer&#x27; user&#x27;s answer to the question; &#x27;question_id&#x27; question identifier;  &#x27;question&#x27; text format question in default language; &#x27;answer_id&#x27; answer identifier; &#x27;answer&#x27; text format answer in default language; &#x27;answer_value&#x27; integer value relative to the answer; &#x27;report&#x27; identifier of the report.</td></tr><tr><th>dataType</th><td style=text-align:left>xsd:string</td></tr></table></li><li><table border=\"1\"><tr><th>@type</th><td style=text-align:left>PropertyValue</td></tr><tr><th>name</th><td style=text-align:left>tigaprob_cat</td></tr><tr><th>description</th><td style=text-align:left></td></tr><tr><th>dataType</th><td style=text-align:left>xsd:int</td></tr></table></li><li><table border=\"1\"><tr><th>@type</th><td style=text-align:left>PropertyValue</td></tr><tr><th>name</th><td style=text-align:left>visible</td></tr><tr><th>description</th><td style=text-align:left></td></tr><tr><th>dataType</th><td style=text-align:left>xsd:boolean</td></tr></table></li><li><table border=\"1\"><tr><th>@type</th><td style=text-align:left>PropertyValue</td></tr><tr><th>name</th><td style=text-align:left>latest_version</td></tr><tr><th>description</th><td style=text-align:left></td></tr><tr><th>dataType</th><td style=text-align:left>xsd:boolean</td></tr></table></li><li><table border=\"1\"><tr><th>@type</th><td style=text-align:left>PropertyValue</td></tr><tr><th>name</th><td style=text-align:left>n_photos</td></tr><tr><th>description</th><td style=text-align:left></td></tr><tr><th>dataType</th><td style=text-align:left>xsd:int</td></tr></table></li><li><table border=\"1\"><tr><th>@type</th><td style=text-align:left>PropertyValue</td></tr><tr><th>name</th><td style=text-align:left>final_expert_status_text</td></tr><tr><th>description</th><td style=text-align:left></td></tr><tr><th>dataType</th><td style=text-align:left>xsd:int</td></tr></table></li><li><table border=\"1\"><tr><th>@type</th><td style=text-align:left>PropertyValue</td></tr><tr><th>name</th><td style=text-align:left>responses</td></tr><tr><th>description</th><td style=text-align:left>Bites related user responses stored in json format with the following keys: &#x27;id&#x27; identifier; &#x27;translated_question&#x27; question as it was in the app, translated to the same language the app was when uploading the report (if the app is in a language which have not translation yet, it defaults to english); &#x27;translated_answer&#x27; user&#x27;s answer to the question; &#x27;question_id&#x27; question identifier;  &#x27;question&#x27; text format question in default language; &#x27;answer_id&#x27; answer identifier; &#x27;answer&#x27; text format answer in default language; &#x27;answer_value&#x27; integer value relative to the answer; &#x27;report&#x27; identifier of the report.</td></tr><tr><th>dataType</th><td style=text-align:left>xsd:string</td></tr></table></li><li><table border=\"1\"><tr><th>@type</th><td style=text-align:left>PropertyValue</td></tr><tr><th>name</th><td style=text-align:left>cached_visible</td></tr><tr><th>description</th><td style=text-align:left></td></tr><tr><th>dataType</th><td style=text-align:left>xsd:decimal</td></tr></table></li><li><table border=\"1\"><tr><th>@type</th><td style=text-align:left>PropertyValue</td></tr><tr><th>name</th><td style=text-align:left>poxsd:int</td></tr><tr><th>description</th><td style=text-align:left></td></tr><tr><th>dataType</th><td style=text-align:left>xsd:string</td></tr></table></li><li><table border=\"1\"><tr><th>@type</th><td style=text-align:left>PropertyValue</td></tr><tr><th>name</th><td style=text-align:left>country</td></tr><tr><th>description</th><td style=text-align:left></td></tr><tr><th>dataType</th><td style=text-align:left>xsd:decimal</td></tr></table></li><li><table border=\"1\"><tr><th>@type</th><td style=text-align:left>PropertyValue</td></tr><tr><th>name</th><td style=text-align:left>session</td></tr><tr><th>description</th><td style=text-align:left></td></tr><tr><th>dataType</th><td style=text-align:left>xsd:decimal</td></tr></table></li></ul></td></tr><tr><th>measurementTechnique</th><td style=text-align:left><ul><li>Sampling. Anonymous citizen scientists send reports of possible observations of mosquitoes, their breeding sites and bites usingthe open source and free smartphone app Mosquito Alert. To send anobservation, participants need to answer a small questionnaire (taxonomic questions in the case of mosquitoes or some descriptors in thecase of breeding sites), indicate the location (current participantlocation or selecting it on a map), add a picture (optional) and notesor comments (optional). The app and project website offers informationto help identify the target species and take good pictures that allow aproper post validation from entomologists (see more information onQuality Control section). Participants can edit or remove theobservation at any time (only if the participant still mantains theMosquito Alert app in their phone). The last version of each report isconsidered the prevailing information. There is no pre-set sampling frequency: participants can send as manydata as they like. The project runs &quot;face-to-face data collectionevents&quot; mainly in schools, meaning that in some places and for a giventime period, data sampling might be more intense. This is also true whenand where there has been a particular dissemination event.</li><li>Quality control. Each report containing at least one picture evaluated by three independent entomologist and, if needed, reviewed by a fourth expert(senior entomologist). The dataset only includes reports from citizen stagged by them as &quot;adult mosquito&quot;, that contain at least one picture and that it has been evaluated by entomological experts.</li></ul></td></tr><tr><th>temporalCoverage</th><td style=text-align:left>2014/..</td></tr><tr><th>spatialCoverage</th><td style=text-align:left><table border=\"1\"><tr><th>@type</th><td style=text-align:left>AdministrativeArea</td></tr><tr><th>name</th><td style=text-align:left>Worldwide</td></tr><tr><th>sameAs</th><td style=text-align:left>https://www.wikidata.org/wiki/Q13780930</td></tr></table></td></tr><tr><th>distribution</th><td style=text-align:left><ul><li><table border=\"1\"><tr><th>@type</th><td style=text-align:left>DataDownload</td></tr><tr><th>name</th><td style=text-align:left>zenodo</td></tr><tr><th>description</th><td style=text-align:left>Distribution from Zenodo cloud.</td></tr><tr><th>encodingFormat</th><td style=text-align:left>JSON.ZIP</td></tr><tr><th>url</th><td style=text-align:left>./notebooks/reports.py</td></tr><tr><th>contentUrl</th><td style=text-align:left>https://zenodo.org/record/4729070/files/MosquitoAlert/Data-v1.120.2021.zip?download=1</td></tr><tr><th>contentSize</th><td style=text-align:left>5MB</td></tr></table></li><li><table border=\"1\"><tr><th>@type</th><td style=text-align:left>DataDownload</td></tr><tr><th>name</th><td style=text-align:left>github</td></tr><tr><th>description</th><td style=text-align:left>Distribution from MosquitoAlert Github repository</td></tr><tr><th>encodingFormat</th><td style=text-align:left>JSON</td></tr><tr><th>url</th><td style=text-align:left>./notebooks/reports.py</td></tr><tr><th>contentUrl</th><td style=text-align:left><ul><li>https://raw.githubusercontent.com/MosquitoAlert/Data/master/all_reports2014.json</li><li>https://raw.githubusercontent.com/MosquitoAlert/Data/master/all_reports2015.json</li><li>https://raw.githubusercontent.com/MosquitoAlert/Data/master/all_reports2016.json</li><li>https://raw.githubusercontent.com/MosquitoAlert/Data/master/all_reports2017.json</li><li>https://raw.githubusercontent.com/MosquitoAlert/Data/master/all_reports2018.json</li><li>https://raw.githubusercontent.com/MosquitoAlert/Data/master/all_reports2019.json</li><li>https://raw.githubusercontent.com/MosquitoAlert/Data/master/all_reports2020.json</li><li>https://raw.githubusercontent.com/MosquitoAlert/Data/master/all_reports2021.json</li><li>https://raw.githubusercontent.com/MosquitoAlert/Data/master/translation_dict.txt</li></ul></td></tr><tr><th>contentSize</th><td style=text-align:left>73MB</td></tr></table></li></ul></td></tr></table>"
      ],
      "text/plain": [
       "<IPython.core.display.HTML object>"
      ]
     },
     "execution_count": 4,
     "metadata": {},
     "output_type": "execute_result"
    }
   ],
   "source": [
    "# NO CODE\n",
    "# FULL WIDTH\n",
    "with open(f'{path}.json') as f:\n",
    "    data = json.load(f)\n",
    "\n",
    "table = json2html.convert(json=data, clubbing=False)\n",
    "table_sub = re.sub('<td>', '<td style=text-align:left>', table)\n",
    "\n",
    "HTML(table_sub)\n",
    "\n",
    "# Run the following in the command line to build a html table\n",
    "# $ jupyter nbconvert --to html --no-input --no-prompt build_tables.ipynb\n"
   ]
  },
  {
   "cell_type": "code",
   "execution_count": null,
   "id": "acquired-episode",
   "metadata": {
    "papermill": {
     "duration": 0.007656,
     "end_time": "2021-12-23T14:24:11.117863",
     "exception": false,
     "start_time": "2021-12-23T14:24:11.110207",
     "status": "completed"
    },
    "tags": []
   },
   "outputs": [],
   "source": []
  }
 ],
 "metadata": {
  "interpreter": {
   "hash": "524d3359b179f3b444361f48db8ae048bd8c237924fac1cd48a4c6f8144f6452"
  },
  "kernelspec": {
   "display_name": "Python 3.7.10 64-bit ('scidb': conda)",
   "language": "python",
   "name": "python3"
  },
  "language_info": {
   "codemirror_mode": {
    "name": "ipython",
    "version": 3
   },
   "file_extension": ".py",
   "mimetype": "text/x-python",
   "name": "python",
   "nbconvert_exporter": "python",
   "pygments_lexer": "ipython3",
   "version": "3.7.10"
  },
  "metadata": {
   "interpreter": {
    "hash": "e3961729dbf4ff77740ff872c9a3eef08621b5b434e3d8d81026af4505918c74"
   }
  },
  "papermill": {
   "default_parameters": {},
   "duration": 1.246155,
   "end_time": "2021-12-23T14:24:11.443457",
   "environment_variables": {},
   "exception": null,
   "input_path": "build_info.ipynb",
   "output_path": "./meta_ipynb/reports.ipynb",
   "parameters": {
    "path": "./meta/mosquito_alert/reports"
   },
   "start_time": "2021-12-23T14:24:10.197302",
   "version": "2.3.3"
  }
 },
 "nbformat": 4,
 "nbformat_minor": 5
}