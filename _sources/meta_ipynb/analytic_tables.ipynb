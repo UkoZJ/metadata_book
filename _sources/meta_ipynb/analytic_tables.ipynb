{
 "cells": [
  {
   "cell_type": "markdown",
   "id": "preliminary-penalty",
   "metadata": {
    "papermill": {
     "duration": 0.011047,
     "end_time": "2021-12-23T14:24:07.189044",
     "exception": false,
     "start_time": "2021-12-23T14:24:07.177997",
     "status": "completed"
    },
    "tags": []
   },
   "source": [
    "# Metadata table"
   ]
  },
  {
   "cell_type": "code",
   "execution_count": 1,
   "id": "acoustic-nelson",
   "metadata": {
    "execution": {
     "iopub.execute_input": "2021-12-23T14:24:07.211513Z",
     "iopub.status.busy": "2021-12-23T14:24:07.210625Z",
     "iopub.status.idle": "2021-12-23T14:24:07.218140Z",
     "shell.execute_reply": "2021-12-23T14:24:07.219337Z"
    },
    "papermill": {
     "duration": 0.023107,
     "end_time": "2021-12-23T14:24:07.219868",
     "exception": false,
     "start_time": "2021-12-23T14:24:07.196761",
     "status": "completed"
    },
    "tags": [
     "remove-input"
    ]
   },
   "outputs": [],
   "source": [
    "# NO CODE\n",
    "from json2html import json2html\n",
    "import json, re\n",
    "from IPython.core.display import HTML, display"
   ]
  },
  {
   "cell_type": "code",
   "execution_count": 2,
   "id": "descending-soldier",
   "metadata": {
    "execution": {
     "iopub.execute_input": "2021-12-23T14:24:07.238868Z",
     "iopub.status.busy": "2021-12-23T14:24:07.237724Z",
     "iopub.status.idle": "2021-12-23T14:24:07.241459Z",
     "shell.execute_reply": "2021-12-23T14:24:07.242235Z"
    },
    "papermill": {
     "duration": 0.016013,
     "end_time": "2021-12-23T14:24:07.242472",
     "exception": false,
     "start_time": "2021-12-23T14:24:07.226459",
     "status": "completed"
    },
    "tags": [
     "parameters",
     "remove-input"
    ]
   },
   "outputs": [],
   "source": [
    "# NO CODE\n",
    "# PARAMETERS\n",
    "path = './meta/environment/meteocat_xema'"
   ]
  },
  {
   "cell_type": "code",
   "execution_count": 3,
   "id": "seven-starter",
   "metadata": {
    "execution": {
     "iopub.execute_input": "2021-12-23T14:24:07.268289Z",
     "iopub.status.busy": "2021-12-23T14:24:07.266669Z",
     "iopub.status.idle": "2021-12-23T14:24:07.272518Z",
     "shell.execute_reply": "2021-12-23T14:24:07.271371Z"
    },
    "papermill": {
     "duration": 0.022258,
     "end_time": "2021-12-23T14:24:07.272782",
     "exception": false,
     "start_time": "2021-12-23T14:24:07.250524",
     "status": "completed"
    },
    "tags": [
     "injected-parameters"
    ]
   },
   "outputs": [],
   "source": [
    "# Parameters\n",
    "path = \"./meta/mosquito_alert/analytic_tables\"\n"
   ]
  },
  {
   "cell_type": "code",
   "execution_count": 4,
   "id": "undefined-avatar",
   "metadata": {
    "execution": {
     "iopub.execute_input": "2021-12-23T14:24:07.305833Z",
     "iopub.status.busy": "2021-12-23T14:24:07.305118Z",
     "iopub.status.idle": "2021-12-23T14:24:07.319875Z",
     "shell.execute_reply": "2021-12-23T14:24:07.319115Z"
    },
    "papermill": {
     "duration": 0.038056,
     "end_time": "2021-12-23T14:24:07.320063",
     "exception": false,
     "start_time": "2021-12-23T14:24:07.282007",
     "status": "completed"
    },
    "tags": [
     "remove-input",
     "full-width"
    ]
   },
   "outputs": [
    {
     "data": {
      "text/html": [
       "<table border=\"1\"><tr><th>@context</th><td style=text-align:left><table border=\"1\"><tr><th>@vocab</th><td style=text-align:left>https://schema.org/</td></tr><tr><th>qudt</th><td style=text-align:left>http://qudt.org/schema/qudt/</td></tr><tr><th>xsd</th><td style=text-align:left>http://www.w3.org/2001/XMLSchema#</td></tr></table></td></tr><tr><th>@type</th><td style=text-align:left>Dataset</td></tr><tr><th>name</th><td style=text-align:left>ma_analytic_tables</td></tr><tr><th>conditionsOfAccess</th><td style=text-align:left>Private.</td></tr><tr><th>description</th><td style=text-align:left>Tables from Mosquito Alert database (TigaData) selected for analytic purposes. Export from database is performed daily. Access to data is possible within ftp authentication to the host webserver.mosquitoalert.com</td></tr><tr><th>sameAs</th><td style=text-align:left></td></tr><tr><th>identifier</th><td style=text-align:left></td></tr><tr><th>license</th><td style=text-align:left>https://creativecommons.org/licenses/by-nc-sa/4.0/</td></tr><tr><th>citation</th><td style=text-align:left><ul><li>Direct Evidence of Adult Aedes albopictus Dispersal by Car. Roger, Eritja et al. (DOI: 10.1038/s41598-017-12652-5)</li><li>Citizen science provides a reliable and scalable tool to track disease-carrying mosquitoes.  John R B, Palmer et al. (DOI: 10.1038/s41467-017-00914-9)</li></ul></td></tr><tr><th>creator</th><td style=text-align:left><ul><li><table border=\"1\"><tr><th>@type</th><td style=text-align:left>Organization</td></tr><tr><th>@id</th><td style=text-align:left>CEAB</td></tr><tr><th>name</th><td style=text-align:left>Consejo Superior de Investigaciones Científicas - Centro de Estudios Avanzados de Blanes (CSIC-CEAB)</td></tr></table></li><li><table border=\"1\"><tr><th>@type</th><td style=text-align:left>Person</td></tr><tr><th>@id</th><td style=text-align:left>JP</td></tr><tr><th>name</th><td style=text-align:left>Palmer, John Rossman Bertholf</td></tr></table></li><li><table border=\"1\"><tr><th>@type</th><td style=text-align:left>Person</td></tr><tr><th>@id</th><td style=text-align:left>AE</td></tr><tr><th>name</th><td style=text-align:left>Escobar Rúbies, Agustí</td></tr></table></li></ul></td></tr><tr><th>measurementTechnique</th><td style=text-align:left><ul><li>Mobile application for citizen science</li><li>Data validation by entomologists</li></ul></td></tr><tr><th>temporalCoverage</th><td style=text-align:left>2014-05-27/..</td></tr><tr><th>spatialCoverage</th><td style=text-align:left><table border=\"1\"><tr><th>@type</th><td style=text-align:left>AdministrativeArea</td></tr><tr><th>name</th><td style=text-align:left>Eurozone</td></tr><tr><th>sameAs</th><td style=text-align:left>https://www.wikidata.org/wiki/Q8268</td></tr></table></td></tr><tr><th>hasPart</th><td style=text-align:left><ul><li><table border=\"1\"><tr><th>@type</th><td style=text-align:left>Dataset</td></tr><tr><th>name</th><td style=text-align:left>tigaserver_app_tigauser</td></tr><tr><th>conditionsOfAccess</th><td style=text-align:left>Private. Available on demand for research purposes only since it could contain user sensible information.</td></tr><tr><th>description</th><td style=text-align:left>Stores all user&#x27;s Mosquito Alert application scores and some general information about the users</td></tr><tr><th>distribution</th><td style=text-align:left><ul><li><table border=\"1\"><tr><th>@type</th><td style=text-align:left>DataDownload</td></tr><tr><th>name</th><td style=text-align:left>webserver_mosquitoalert_com</td></tr><tr><th>description</th><td style=text-align:left>Distribution by SFTP protocol from MosquitoAlert webserver.</td></tr><tr><th>encodingFormat</th><td style=text-align:left>CSV</td></tr><tr><th>url</th><td style=text-align:left>./notebooks/analytic_tables.py</td></tr><tr><th>contentUrl</th><td style=text-align:left>sftp://epidata@webserver.mosquitoalert.com:9122/tmp/tigaserver_app_tigauser.csv</td></tr><tr><th>contentSize</th><td style=text-align:left>~10MB</td></tr></table></li></ul></td></tr><tr><th>variableMeasured</th><td style=text-align:left><ul><li><table border=\"1\"><tr><th>@type</th><td style=text-align:left>PropertyValue</td></tr><tr><th>name</th><td style=text-align:left>user_UUID</td></tr><tr><th>description</th><td style=text-align:left>hash that replaces a user name</td></tr><tr><th>qudt:dataType</th><td style=text-align:left>xsd:string</td></tr></table></li><li><table border=\"1\"><tr><th>@type</th><td style=text-align:left>PropertyValue</td></tr><tr><th>name</th><td style=text-align:left>registration_time</td></tr><tr><th>description</th><td style=text-align:left></td></tr><tr><th>qudt:dataType</th><td style=text-align:left>xsd:dateTime</td></tr></table></li><li><table border=\"1\"><tr><th>@type</th><td style=text-align:left>PropertyValue</td></tr><tr><th>name</th><td style=text-align:left>device_token</td></tr><tr><th>description</th><td style=text-align:left></td></tr><tr><th>qudt:dataType</th><td style=text-align:left>xsd:string</td></tr></table></li><li><table border=\"1\"><tr><th>@type</th><td style=text-align:left>PropertyValue</td></tr><tr><th>name</th><td style=text-align:left>score</td></tr><tr><th>description</th><td style=text-align:left>score of the user gained by submitting Mosquito Alert reports</td></tr><tr><th>qudt:dataType</th><td style=text-align:left>xsd:int</td></tr></table></li><li><table border=\"1\"><tr><th>@type</th><td style=text-align:left>PropertyValue</td></tr><tr><th>name</th><td style=text-align:left>profile_id</td></tr><tr><th>description</th><td style=text-align:left></td></tr><tr><th>qudt:dataType</th><td style=text-align:left>xsd:int</td></tr></table></li><li><table border=\"1\"><tr><th>@type</th><td style=text-align:left>PropertyValue</td></tr><tr><th>name</th><td style=text-align:left>score_v2</td></tr><tr><th>description</th><td style=text-align:left></td></tr><tr><th>qudt:dataType</th><td style=text-align:left>xsd:int</td></tr></table></li><li><table border=\"1\"><tr><th>@type</th><td style=text-align:left>PropertyValue</td></tr><tr><th>name</th><td style=text-align:left>score_v2_adult</td></tr><tr><th>description</th><td style=text-align:left></td></tr><tr><th>qudt:dataType</th><td style=text-align:left>xsd:int</td></tr></table></li><li><table border=\"1\"><tr><th>@type</th><td style=text-align:left>PropertyValue</td></tr><tr><th>name</th><td style=text-align:left>score_v2_bite</td></tr><tr><th>description</th><td style=text-align:left></td></tr><tr><th>qudt:dataType</th><td style=text-align:left>xsd:int</td></tr></table></li><li><table border=\"1\"><tr><th>@type</th><td style=text-align:left>PropertyValue</td></tr><tr><th>name</th><td style=text-align:left>score_v2_site</td></tr><tr><th>description</th><td style=text-align:left></td></tr><tr><th>qudt:dataType</th><td style=text-align:left>xsd:int</td></tr></table></li></ul></td></tr></table></li><li><table border=\"1\"><tr><th>@type</th><td style=text-align:left>Dataset</td></tr><tr><th>name</th><td style=text-align:left>tigaserver_app_report</td></tr><tr><th>conditionsOfAccess</th><td style=text-align:left>Private. Available on demand for research purposes only since it could contain user sensible information.</td></tr><tr><th>description</th><td style=text-align:left>Register of Mosquito Alert reports made by users at a given time and location with a given mobile device. Only the report ID is stored and not the whole report data content.</td></tr><tr><th>distribution</th><td style=text-align:left><ul><li><table border=\"1\"><tr><th>@type</th><td style=text-align:left>DataDownload</td></tr><tr><th>name</th><td style=text-align:left>webserver_mosquitoalert_com</td></tr><tr><th>description</th><td style=text-align:left>Distribution by SFTP protocol from MosquitoAlert webserver.</td></tr><tr><th>encodingFormat</th><td style=text-align:left>CSV</td></tr><tr><th>url</th><td style=text-align:left>./notebooks/analytic_tables.py</td></tr><tr><th>contentUrl</th><td style=text-align:left>sftp://epidata@webserver.mosquitoalert.com:9122/tmp/tigaserver_app_report.csv</td></tr><tr><th>contentSize</th><td style=text-align:left>~14MB</td></tr></table></li></ul></td></tr><tr><th>variableMeasured</th><td style=text-align:left><ul><li><table border=\"1\"><tr><th>@type</th><td style=text-align:left>PropertyValue</td></tr><tr><th>name</th><td style=text-align:left>version_UUID</td></tr><tr><th>description</th><td style=text-align:left></td></tr><tr><th>qudt:dataType</th><td style=text-align:left>xsd:string</td></tr></table></li><li><table border=\"1\"><tr><th>@type</th><td style=text-align:left>PropertyValue</td></tr><tr><th>name</th><td style=text-align:left>version_number</td></tr><tr><th>description</th><td style=text-align:left></td></tr><tr><th>qudt:dataType</th><td style=text-align:left>xsd:int</td></tr></table></li><li><table border=\"1\"><tr><th>@type</th><td style=text-align:left>PropertyValue</td></tr><tr><th>name</th><td style=text-align:left>user_id</td></tr><tr><th>description</th><td style=text-align:left></td></tr><tr><th>qudt:dataType</th><td style=text-align:left>xsd:string</td></tr></table></li><li><table border=\"1\"><tr><th>@type</th><td style=text-align:left>PropertyValue</td></tr><tr><th>name</th><td style=text-align:left>report_id</td></tr><tr><th>description</th><td style=text-align:left></td></tr><tr><th>qudt:dataType</th><td style=text-align:left>xsd:string</td></tr></table></li><li><table border=\"1\"><tr><th>@type</th><td style=text-align:left>PropertyValue</td></tr><tr><th>name</th><td style=text-align:left>server_upload_time</td></tr><tr><th>description</th><td style=text-align:left></td></tr><tr><th>qudt:dataType</th><td style=text-align:left>xsd:dateTime</td></tr></table></li><li><table border=\"1\"><tr><th>@type</th><td style=text-align:left>PropertyValue</td></tr><tr><th>name</th><td style=text-align:left>phone_upload_time</td></tr><tr><th>description</th><td style=text-align:left></td></tr><tr><th>qudt:dataType</th><td style=text-align:left>xsd:dateTime</td></tr></table></li><li><table border=\"1\"><tr><th>@type</th><td style=text-align:left>PropertyValue</td></tr><tr><th>name</th><td style=text-align:left>creation_time</td></tr><tr><th>description</th><td style=text-align:left></td></tr><tr><th>qudt:dataType</th><td style=text-align:left>xsd:dateTime</td></tr></table></li><li><table border=\"1\"><tr><th>@type</th><td style=text-align:left>PropertyValue</td></tr><tr><th>name</th><td style=text-align:left>version_time</td></tr><tr><th>description</th><td style=text-align:left></td></tr><tr><th>qudt:dataType</th><td style=text-align:left>xsd:dateTime</td></tr></table></li><li><table border=\"1\"><tr><th>@type</th><td style=text-align:left>PropertyValue</td></tr><tr><th>name</th><td style=text-align:left>type</td></tr><tr><th>description</th><td style=text-align:left></td></tr><tr><th>qudt:dataType</th><td style=text-align:left>xsd:string</td></tr></table></li><li><table border=\"1\"><tr><th>@type</th><td style=text-align:left>PropertyValue</td></tr><tr><th>name</th><td style=text-align:left>mission_id</td></tr><tr><th>description</th><td style=text-align:left></td></tr><tr><th>qudt:dataType</th><td style=text-align:left>xsd:int</td></tr></table></li><li><table border=\"1\"><tr><th>@type</th><td style=text-align:left>PropertyValue</td></tr><tr><th>name</th><td style=text-align:left>location_choice</td></tr><tr><th>description</th><td style=text-align:left></td></tr><tr><th>qudt:dataType</th><td style=text-align:left>xsd:string</td></tr></table></li><li><table border=\"1\"><tr><th>@type</th><td style=text-align:left>PropertyValue</td></tr><tr><th>name</th><td style=text-align:left>current_location_lon</td></tr><tr><th>description</th><td style=text-align:left></td></tr><tr><th>qudt:dataType</th><td style=text-align:left>xsd:decimal</td></tr></table></li><li><table border=\"1\"><tr><th>@type</th><td style=text-align:left>PropertyValue</td></tr><tr><th>name</th><td style=text-align:left>current_location_lat</td></tr><tr><th>description</th><td style=text-align:left></td></tr><tr><th>qudt:dataType</th><td style=text-align:left>xsd:decimal</td></tr></table></li><li><table border=\"1\"><tr><th>@type</th><td style=text-align:left>PropertyValue</td></tr><tr><th>name</th><td style=text-align:left>selected_location_lon</td></tr><tr><th>description</th><td style=text-align:left></td></tr><tr><th>qudt:dataType</th><td style=text-align:left>xsd:decimal</td></tr></table></li><li><table border=\"1\"><tr><th>@type</th><td style=text-align:left>PropertyValue</td></tr><tr><th>name</th><td style=text-align:left>selected_location_lat</td></tr><tr><th>description</th><td style=text-align:left></td></tr><tr><th>qudt:dataType</th><td style=text-align:left>xsd:decimal</td></tr></table></li><li><table border=\"1\"><tr><th>@type</th><td style=text-align:left>PropertyValue</td></tr><tr><th>name</th><td style=text-align:left>note</td></tr><tr><th>description</th><td style=text-align:left></td></tr><tr><th>qudt:dataType</th><td style=text-align:left>xsd:string</td></tr></table></li><li><table border=\"1\"><tr><th>@type</th><td style=text-align:left>PropertyValue</td></tr><tr><th>name</th><td style=text-align:left>package_name</td></tr><tr><th>description</th><td style=text-align:left></td></tr><tr><th>qudt:dataType</th><td style=text-align:left>xsd:string</td></tr></table></li><li><table border=\"1\"><tr><th>@type</th><td style=text-align:left>PropertyValue</td></tr><tr><th>name</th><td style=text-align:left>package_version</td></tr><tr><th>description</th><td style=text-align:left></td></tr><tr><th>qudt:dataType</th><td style=text-align:left>xsd:int</td></tr></table></li><li><table border=\"1\"><tr><th>@type</th><td style=text-align:left>PropertyValue</td></tr><tr><th>name</th><td style=text-align:left>device_manufacturer</td></tr><tr><th>description</th><td style=text-align:left></td></tr><tr><th>qudt:dataType</th><td style=text-align:left>xsd:string</td></tr></table></li><li><table border=\"1\"><tr><th>@type</th><td style=text-align:left>PropertyValue</td></tr><tr><th>name</th><td style=text-align:left>device_model</td></tr><tr><th>description</th><td style=text-align:left></td></tr><tr><th>qudt:dataType</th><td style=text-align:left>xsd:string</td></tr></table></li><li><table border=\"1\"><tr><th>@type</th><td style=text-align:left>PropertyValue</td></tr><tr><th>name</th><td style=text-align:left>os</td></tr><tr><th>description</th><td style=text-align:left></td></tr><tr><th>qudt:dataType</th><td style=text-align:left>xsd:string</td></tr></table></li><li><table border=\"1\"><tr><th>@type</th><td style=text-align:left>PropertyValue</td></tr><tr><th>name</th><td style=text-align:left>os_version</td></tr><tr><th>description</th><td style=text-align:left></td></tr><tr><th>qudt:dataType</th><td style=text-align:left>xsd:int</td></tr></table></li><li><table border=\"1\"><tr><th>@type</th><td style=text-align:left>PropertyValue</td></tr><tr><th>name</th><td style=text-align:left>os_language</td></tr><tr><th>description</th><td style=text-align:left></td></tr><tr><th>qudt:dataType</th><td style=text-align:left>xsd:string</td></tr></table></li><li><table border=\"1\"><tr><th>@type</th><td style=text-align:left>PropertyValue</td></tr><tr><th>name</th><td style=text-align:left>app_language</td></tr><tr><th>description</th><td style=text-align:left></td></tr><tr><th>qudt:dataType</th><td style=text-align:left>xsd:string</td></tr></table></li><li><table border=\"1\"><tr><th>@type</th><td style=text-align:left>PropertyValue</td></tr><tr><th>name</th><td style=text-align:left>hide</td></tr><tr><th>description</th><td style=text-align:left></td></tr><tr><th>qudt:dataType</th><td style=text-align:left>xsd:boolean</td></tr></table></li><li><table border=\"1\"><tr><th>@type</th><td style=text-align:left>PropertyValue</td></tr><tr><th>name</th><td style=text-align:left>poxsd:int</td></tr><tr><th>description</th><td style=text-align:left></td></tr><tr><th>qudt:dataType</th><td style=text-align:left>xsd:string</td></tr></table></li><li><table border=\"1\"><tr><th>@type</th><td style=text-align:left>PropertyValue</td></tr><tr><th>name</th><td style=text-align:left>cached_visible</td></tr><tr><th>description</th><td style=text-align:left></td></tr><tr><th>qudt:dataType</th><td style=text-align:left>xsd:boolean</td></tr></table></li><li><table border=\"1\"><tr><th>@type</th><td style=text-align:left>PropertyValue</td></tr><tr><th>name</th><td style=text-align:left>country_id</td></tr><tr><th>description</th><td style=text-align:left></td></tr><tr><th>qudt:dataType</th><td style=text-align:left>xsd:int</td></tr></table></li><li><table border=\"1\"><tr><th>@type</th><td style=text-align:left>PropertyValue</td></tr><tr><th>name</th><td style=text-align:left>session_id</td></tr><tr><th>description</th><td style=text-align:left></td></tr><tr><th>qudt:dataType</th><td style=text-align:left>xsd:int</td></tr></table></li></ul></td></tr></table></li><li><table border=\"1\"><tr><th>@type</th><td style=text-align:left>Dataset</td></tr><tr><th>name</th><td style=text-align:left>tigaserver_app_fix</td></tr><tr><th>conditionsOfAccess</th><td style=text-align:left>Private. Available on demand for research purposes only since it could contain user sensible information.</td></tr><tr><th>description</th><td style=text-align:left>Sampling effort measurement given by Mosquito Alert users location</td></tr><tr><th>distribution</th><td style=text-align:left><ul><li><table border=\"1\"><tr><th>@type</th><td style=text-align:left>DataDownload</td></tr><tr><th>name</th><td style=text-align:left>webserver_mosquitoalert_com</td></tr><tr><th>description</th><td style=text-align:left>Distribution by SFTP protocol from MosquitoAlert webserver.</td></tr><tr><th>encodingFormat</th><td style=text-align:left>CSV</td></tr><tr><th>url</th><td style=text-align:left>./notebooks/analytic_tables.py</td></tr><tr><th>contentUrl</th><td style=text-align:left>sftp://epidata@webserver.mosquitoalert.com:9122/tmp/tigaserver_app_fix.csv</td></tr><tr><th>contentSize</th><td style=text-align:left>~160MB</td></tr></table></li></ul></td></tr><tr><th>variableMeasured</th><td style=text-align:left><ul><li><table border=\"1\"><tr><th>@type</th><td style=text-align:left>PropertyValue</td></tr><tr><th>name</th><td style=text-align:left>id</td></tr><tr><th>description</th><td style=text-align:left></td></tr><tr><th>qudt:dataType</th><td style=text-align:left>xsd:int</td></tr></table></li><li><table border=\"1\"><tr><th>@type</th><td style=text-align:left>PropertyValue</td></tr><tr><th>name</th><td style=text-align:left>fix_time</td></tr><tr><th>description</th><td style=text-align:left></td></tr><tr><th>qudt:dataType</th><td style=text-align:left>xsd:dateTime</td></tr></table></li><li><table border=\"1\"><tr><th>@type</th><td style=text-align:left>PropertyValue</td></tr><tr><th>name</th><td style=text-align:left>server_upload_time</td></tr><tr><th>description</th><td style=text-align:left></td></tr><tr><th>qudt:dataType</th><td style=text-align:left>xsd:dateTime</td></tr></table></li><li><table border=\"1\"><tr><th>@type</th><td style=text-align:left>PropertyValue</td></tr><tr><th>name</th><td style=text-align:left>phone_upload_time</td></tr><tr><th>description</th><td style=text-align:left></td></tr><tr><th>qudt:dataType</th><td style=text-align:left>xsd:dateTime</td></tr></table></li><li><table border=\"1\"><tr><th>@type</th><td style=text-align:left>PropertyValue</td></tr><tr><th>name</th><td style=text-align:left>masked_lon</td></tr><tr><th>description</th><td style=text-align:left></td></tr><tr><th>qudt:dataType</th><td style=text-align:left>xsd:decimal</td></tr></table></li><li><table border=\"1\"><tr><th>@type</th><td style=text-align:left>PropertyValue</td></tr><tr><th>name</th><td style=text-align:left>masked_lat</td></tr><tr><th>description</th><td style=text-align:left></td></tr><tr><th>qudt:dataType</th><td style=text-align:left>xsd:decimal</td></tr></table></li><li><table border=\"1\"><tr><th>@type</th><td style=text-align:left>PropertyValue</td></tr><tr><th>name</th><td style=text-align:left>power</td></tr><tr><th>description</th><td style=text-align:left></td></tr><tr><th>qudt:dataType</th><td style=text-align:left>xsd:decimal</td></tr></table></li><li><table border=\"1\"><tr><th>@type</th><td style=text-align:left>PropertyValue</td></tr><tr><th>name</th><td style=text-align:left>user_coverage_uuid</td></tr><tr><th>description</th><td style=text-align:left></td></tr><tr><th>qudt:dataType</th><td style=text-align:left>xsd:string</td></tr></table></li><li><table border=\"1\"><tr><th>@type</th><td style=text-align:left>PropertyValue</td></tr><tr><th>name</th><td style=text-align:left>mask_size</td></tr><tr><th>description</th><td style=text-align:left></td></tr><tr><th>qudt:dataType</th><td style=text-align:left>xsd:string</td></tr></table></li></ul></td></tr></table></li><li><table border=\"1\"><tr><th>@type</th><td style=text-align:left>Dataset</td></tr><tr><th>name</th><td style=text-align:left>tigaserver_app_photo</td></tr><tr><th>conditionsOfAccess</th><td style=text-align:left>Public.</td></tr><tr><th>description</th><td style=text-align:left>Identifier references to Mosquito Alert report pictures</td></tr><tr><th>distribution</th><td style=text-align:left><ul><li><table border=\"1\"><tr><th>@type</th><td style=text-align:left>DataDownload</td></tr><tr><th>name</th><td style=text-align:left>webserver_mosquitoalert_com</td></tr><tr><th>description</th><td style=text-align:left>Distribution by SFTP protocol from MosquitoAlert webserver.</td></tr><tr><th>encodingFormat</th><td style=text-align:left>CSV</td></tr><tr><th>url</th><td style=text-align:left>./notebooks/analytic_tables.py</td></tr><tr><th>contentUrl</th><td style=text-align:left><ul><li>sftp://epidata@webserver.mosquitoalert.com:9122/tmp/tigaserver_app_photo.csv</li><li>sftp://epidata@webserver.mosquitoalert.com:9122/home/epidata/earlyImageService/mosquito_alert_photos_clean.csv</li></ul></td></tr><tr><th>contentSize</th><td style=text-align:left>~6MB</td></tr></table></li></ul></td></tr><tr><th>variableMeasured</th><td style=text-align:left><ul><li><table border=\"1\"><tr><th>@type</th><td style=text-align:left>PropertyValue</td></tr><tr><th>name</th><td style=text-align:left>id</td></tr><tr><th>description</th><td style=text-align:left>Identifier of a picture</td></tr><tr><th>qudt:dataType</th><td style=text-align:left>xsd:int</td></tr></table></li><li><table border=\"1\"><tr><th>@type</th><td style=text-align:left>PropertyValue</td></tr><tr><th>name</th><td style=text-align:left>photo</td></tr><tr><th>description</th><td style=text-align:left>Url path to be added to http://webserver.mosquitoalert.com//media in order to get a picture</td></tr><tr><th>qudt:dataType</th><td style=text-align:left>xsd:string</td></tr></table></li><li><table border=\"1\"><tr><th>@type</th><td style=text-align:left>PropertyValue</td></tr><tr><th>name</th><td style=text-align:left>report_id</td></tr><tr><th>description</th><td style=text-align:left>Report identifier to which a picture is associated</td></tr><tr><th>qudt:dataType</th><td style=text-align:left>xsd:string</td></tr></table></li><li><table border=\"1\"><tr><th>@type</th><td style=text-align:left>PropertyValue</td></tr><tr><th>name</th><td style=text-align:left>hide</td></tr><tr><th>description</th><td style=text-align:left>Hidden or viewable picture</td></tr><tr><th>qudt:dataType</th><td style=text-align:left>xsd:boolean</td></tr></table></li><li><table border=\"1\"><tr><th>@type</th><td style=text-align:left>PropertyValue</td></tr><tr><th>name</th><td style=text-align:left>uuid</td></tr><tr><th>description</th><td style=text-align:left>Hashed unique identifier of a picture</td></tr><tr><th>qudt:dataType</th><td style=text-align:left>xsd:decimal</td></tr></table></li></ul></td></tr></table></li></ul></td></tr></table>"
      ],
      "text/plain": [
       "<IPython.core.display.HTML object>"
      ]
     },
     "execution_count": 4,
     "metadata": {},
     "output_type": "execute_result"
    }
   ],
   "source": [
    "# NO CODE\n",
    "# FULL WIDTH\n",
    "with open(f'{path}.json') as f:\n",
    "    data = json.load(f)\n",
    "\n",
    "table = json2html.convert(json=data, clubbing=False)\n",
    "table_sub = re.sub('<td>', '<td style=text-align:left>', table)\n",
    "\n",
    "HTML(table_sub)\n",
    "\n",
    "# Run the following in the command line to build a html table\n",
    "# $ jupyter nbconvert --to html --no-input --no-prompt build_tables.ipynb\n"
   ]
  },
  {
   "cell_type": "code",
   "execution_count": null,
   "id": "acoustic-summit",
   "metadata": {
    "papermill": {
     "duration": 0.007503,
     "end_time": "2021-12-23T14:24:07.338376",
     "exception": false,
     "start_time": "2021-12-23T14:24:07.330873",
     "status": "completed"
    },
    "tags": []
   },
   "outputs": [],
   "source": []
  }
 ],
 "metadata": {
  "interpreter": {
   "hash": "524d3359b179f3b444361f48db8ae048bd8c237924fac1cd48a4c6f8144f6452"
  },
  "kernelspec": {
   "display_name": "Python 3.7.10 64-bit ('scidb': conda)",
   "language": "python",
   "name": "python3"
  },
  "language_info": {
   "codemirror_mode": {
    "name": "ipython",
    "version": 3
   },
   "file_extension": ".py",
   "mimetype": "text/x-python",
   "name": "python",
   "nbconvert_exporter": "python",
   "pygments_lexer": "ipython3",
   "version": "3.7.10"
  },
  "metadata": {
   "interpreter": {
    "hash": "e3961729dbf4ff77740ff872c9a3eef08621b5b434e3d8d81026af4505918c74"
   }
  },
  "papermill": {
   "default_parameters": {},
   "duration": 1.552943,
   "end_time": "2021-12-23T14:24:07.659542",
   "environment_variables": {},
   "exception": null,
   "input_path": "build_info.ipynb",
   "output_path": "./meta_ipynb/analytic_tables.ipynb",
   "parameters": {
    "path": "./meta/mosquito_alert/analytic_tables"
   },
   "start_time": "2021-12-23T14:24:06.106599",
   "version": "2.3.3"
  }
 },
 "nbformat": 4,
 "nbformat_minor": 5
}