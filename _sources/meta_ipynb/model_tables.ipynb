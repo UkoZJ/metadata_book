{
 "cells": [
  {
   "cell_type": "markdown",
   "id": "adopted-headquarters",
   "metadata": {
    "papermill": {
     "duration": 0.013902,
     "end_time": "2021-12-23T14:24:18.733231",
     "exception": false,
     "start_time": "2021-12-23T14:24:18.719329",
     "status": "completed"
    },
    "tags": []
   },
   "source": [
    "# Metadata table"
   ]
  },
  {
   "cell_type": "code",
   "execution_count": 1,
   "id": "round-petersburg",
   "metadata": {
    "execution": {
     "iopub.execute_input": "2021-12-23T14:24:18.756200Z",
     "iopub.status.busy": "2021-12-23T14:24:18.755069Z",
     "iopub.status.idle": "2021-12-23T14:24:18.760776Z",
     "shell.execute_reply": "2021-12-23T14:24:18.759967Z"
    },
    "papermill": {
     "duration": 0.021873,
     "end_time": "2021-12-23T14:24:18.760980",
     "exception": false,
     "start_time": "2021-12-23T14:24:18.739107",
     "status": "completed"
    },
    "tags": [
     "remove-input"
    ]
   },
   "outputs": [],
   "source": [
    "# NO CODE\n",
    "from json2html import json2html\n",
    "import json, re\n",
    "from IPython.core.display import HTML, display"
   ]
  },
  {
   "cell_type": "code",
   "execution_count": 2,
   "id": "robust-perspective",
   "metadata": {
    "execution": {
     "iopub.execute_input": "2021-12-23T14:24:18.786584Z",
     "iopub.status.busy": "2021-12-23T14:24:18.785093Z",
     "iopub.status.idle": "2021-12-23T14:24:18.789528Z",
     "shell.execute_reply": "2021-12-23T14:24:18.790359Z"
    },
    "papermill": {
     "duration": 0.020639,
     "end_time": "2021-12-23T14:24:18.790606",
     "exception": false,
     "start_time": "2021-12-23T14:24:18.769967",
     "status": "completed"
    },
    "tags": [
     "parameters",
     "remove-input"
    ]
   },
   "outputs": [],
   "source": [
    "# NO CODE\n",
    "# PARAMETERS\n",
    "path = './meta/environment/meteocat_xema'"
   ]
  },
  {
   "cell_type": "code",
   "execution_count": 3,
   "id": "split-greeting",
   "metadata": {
    "execution": {
     "iopub.execute_input": "2021-12-23T14:24:18.810264Z",
     "iopub.status.busy": "2021-12-23T14:24:18.809313Z",
     "iopub.status.idle": "2021-12-23T14:24:18.814995Z",
     "shell.execute_reply": "2021-12-23T14:24:18.813989Z"
    },
    "papermill": {
     "duration": 0.016716,
     "end_time": "2021-12-23T14:24:18.815216",
     "exception": false,
     "start_time": "2021-12-23T14:24:18.798500",
     "status": "completed"
    },
    "tags": [
     "injected-parameters"
    ]
   },
   "outputs": [],
   "source": [
    "# Parameters\n",
    "path = \"./meta/mosquito_alert/model_tables\"\n"
   ]
  },
  {
   "cell_type": "code",
   "execution_count": 4,
   "id": "czech-genius",
   "metadata": {
    "execution": {
     "iopub.execute_input": "2021-12-23T14:24:18.851874Z",
     "iopub.status.busy": "2021-12-23T14:24:18.847830Z",
     "iopub.status.idle": "2021-12-23T14:24:18.858772Z",
     "shell.execute_reply": "2021-12-23T14:24:18.858063Z"
    },
    "papermill": {
     "duration": 0.034158,
     "end_time": "2021-12-23T14:24:18.858924",
     "exception": false,
     "start_time": "2021-12-23T14:24:18.824766",
     "status": "completed"
    },
    "tags": [
     "remove-input",
     "full-width"
    ]
   },
   "outputs": [
    {
     "data": {
      "text/html": [
       "<table border=\"1\"><tr><th>@context</th><td style=text-align:left><table border=\"1\"><tr><th>@vocab</th><td style=text-align:left>https://schema.org/</td></tr><tr><th>qudt</th><td style=text-align:left>http://qudt.org/schema/qudt/</td></tr><tr><th>xsd</th><td style=text-align:left>http://www.w3.org/2001/XMLSchema#</td></tr></table></td></tr><tr><th>@type</th><td style=text-align:left>Dataset</td></tr><tr><th>name</th><td style=text-align:left>ma_model_tables</td></tr><tr><th>conditionsOfAccess</th><td style=text-align:left>Public.</td></tr><tr><th>description</th><td style=text-align:left>Results from the Bayesian multilevel model that feed the Mosquito Alert raster maps of the &#x27;Available Models&#x27; layer. Access to data is possible within direct http download or ftp authentication to the host webserver.mosquitoalert.com</td></tr><tr><th>sameAs</th><td style=text-align:left></td></tr><tr><th>identifier</th><td style=text-align:left></td></tr><tr><th>license</th><td style=text-align:left>https://creativecommons.org/publicdomain/zero/1.0/</td></tr><tr><th>citation</th><td style=text-align:left><ul><li>Direct Evidence of Adult Aedes albopictus Dispersal by Car. Roger, Eritja et al. (DOI: 10.1038/s41598-017-12652-5)</li><li>Citizen science provides a reliable and scalable tool to track disease-carrying mosquitoes.  John R B, Palmer et al. (DOI: 10.1038/s41467-017-00914-9)</li></ul></td></tr><tr><th>creator</th><td style=text-align:left><ul><li><table border=\"1\"><tr><th>@type</th><td style=text-align:left>Organization</td></tr><tr><th>@id</th><td style=text-align:left>CEAB</td></tr><tr><th>name</th><td style=text-align:left>Consejo Superior de Investigaciones Científicas - Centro de Estudios Avanzados de Blanes (CSIC-CEAB)</td></tr></table></li><li><table border=\"1\"><tr><th>@type</th><td style=text-align:left>Person</td></tr><tr><th>@id</th><td style=text-align:left>JP</td></tr><tr><th>name</th><td style=text-align:left>Palmer, John Rossman Bertholf</td></tr></table></li><li><table border=\"1\"><tr><th>@type</th><td style=text-align:left>Person</td></tr><tr><th>@id</th><td style=text-align:left>AE</td></tr><tr><th>name</th><td style=text-align:left>Escobar Rúbies, Agustí</td></tr></table></li></ul></td></tr><tr><th>includedInDataCatalog</th><td style=text-align:left><table border=\"1\"><tr><th>@type</th><td style=text-align:left>DataCatalog</td></tr><tr><th>name</th><td style=text-align:left>ma.yaml</td></tr></table></td></tr><tr><th>measurementTechnique</th><td style=text-align:left><ul><li>Mobile application for citizen science</li><li>Data validation by entomologists</li></ul></td></tr><tr><th>temporalCoverage</th><td style=text-align:left>2014/..</td></tr><tr><th>spatialCoverage</th><td style=text-align:left><table border=\"1\"><tr><th>@type</th><td style=text-align:left>AdministrativeArea</td></tr><tr><th>name</th><td style=text-align:left>Worldwide</td></tr><tr><th>sameAs</th><td style=text-align:left>https://www.wikidata.org/wiki/Q13780930</td></tr></table></td></tr><tr><th>hasPart</th><td style=text-align:left><ul><li><table border=\"1\"><tr><th>@type</th><td style=text-align:left>Dataset</td></tr><tr><th>name</th><td style=text-align:left>encounter_prob_monthly_grid</td></tr><tr><th>conditionsOfAccess</th><td style=text-align:left>Public.</td></tr><tr><th>description</th><td style=text-align:left>Estimated probability of encounter for a given type of mosquito on monthly basis. Estimates are based on the data sent by citizens to Mosquito Alert. Tables are stored in folders by time and mosquito species: MOSQUITO_TYPE is &#x27;tig&#x27; for Aedes Albopictus and &#x27;jap&#x27; for Aedes Japonicus. The first estimates for a month are based on observations received for that month in previous years, estimates that are updated weekly with data for the current year. Estimates are displayed in grids of approximately 2x2 kilometers (grid of 0.05 degrees latitude by 0.05 degrees longitude). This calculation takes into account the sampling effort, considering the number of participants with the active app in each grid in the defined time (see the “sampling effort” layer). The probability of mosquitoes is higher in a grid in which 10 observations have been received and there are 5 participants, than in another with 10 observations and 10 participants. Modeling observations and active participants determines the value of the probability shown on the map.</td></tr><tr><th>distribution</th><td style=text-align:left><ul><li><table border=\"1\"><tr><th>@type</th><td style=text-align:left>DataDownload</td></tr><tr><th>name</th><td style=text-align:left>webserver_mosquitoalert_com_http</td></tr><tr><th>description</th><td style=text-align:left>Distribution by HTTP download from MosquitoAlert webserver</td></tr><tr><th>encodingFormat</th><td style=text-align:left>CSV</td></tr><tr><th>url</th><td style=text-align:left>./notebook/model_tables.py</td></tr><tr><th>contentUrl</th><td style=text-align:left>http://webserver.mosquitoalert.com/static/tigapublic/models/vector/grid/{MOSQUITO_TYPE}/{YEAR}/{MONTH}/mascp_monthly.csv</td></tr><tr><th>contentSize</th><td style=text-align:left>0.1MB</td></tr></table></li><li><table border=\"1\"><tr><th>@type</th><td style=text-align:left>DataDownload</td></tr><tr><th>name</th><td style=text-align:left>webserver_mosquitoalert_com_sftp</td></tr><tr><th>description</th><td style=text-align:left>Distribution by SFTP download from MosquitoAlert webserver</td></tr><tr><th>encodingFormat</th><td style=text-align:left>CSV</td></tr><tr><th>url</th><td style=text-align:left>./notebook/model_tables.py</td></tr><tr><th>contentUrl</th><td style=text-align:left>sftp://epidata@webserver.mosquitoalert.com:9122/home/epidata/models/vector/grid/{MOSQUITO_TYPE}/{YEAR}/{MONTH}/mascp_monthly.csv</td></tr><tr><th>contentSize</th><td style=text-align:left>0.1MB</td></tr></table></li></ul></td></tr><tr><th>variableMeasured</th><td style=text-align:left><ul><li><table border=\"1\"><tr><th>@type</th><td style=text-align:left>PropertyValue</td></tr><tr><th>name</th><td style=text-align:left>month</td></tr><tr><th>description</th><td style=text-align:left>Month number</td></tr><tr><th>qudt:dataType</th><td style=text-align:left>xsd:int</td></tr></table></li><li><table border=\"1\"><tr><th>@type</th><td style=text-align:left>PropertyValue</td></tr><tr><th>name</th><td style=text-align:left>TigacellID</td></tr><tr><th>description</th><td style=text-align:left>Longitude and latitude underscore separated ID. Example: -0.05_38.6</td></tr><tr><th>qudt:dataType</th><td style=text-align:left>xsd:string</td></tr></table></li><li><table border=\"1\"><tr><th>@type</th><td style=text-align:left>PropertyValue</td></tr><tr><th>name</th><td style=text-align:left>prob_l95</td></tr><tr><th>description</th><td style=text-align:left>Lower probability value for 95% confidence level </td></tr><tr><th>qudt:dataType</th><td style=text-align:left>xsd:decimal</td></tr></table></li><li><table border=\"1\"><tr><th>@type</th><td style=text-align:left>PropertyValue</td></tr><tr><th>name</th><td style=text-align:left>median_u95</td></tr><tr><th>description</th><td style=text-align:left>Median probability value</td></tr><tr><th>qudt:dataType</th><td style=text-align:left>xsd:decimal</td></tr></table></li><li><table border=\"1\"><tr><th>@type</th><td style=text-align:left>PropertyValue</td></tr><tr><th>name</th><td style=text-align:left>prob_u95</td></tr><tr><th>description</th><td style=text-align:left>Upper probability value for 95% confidence level</td></tr><tr><th>qudt:dataType</th><td style=text-align:left>xsd:decimal</td></tr></table></li><li><table border=\"1\"><tr><th>@type</th><td style=text-align:left>PropertyValue</td></tr><tr><th>name</th><td style=text-align:left>sd</td></tr><tr><th>description</th><td style=text-align:left>Standard deviation value</td></tr><tr><th>qudt:dataType</th><td style=text-align:left>xsd:decimal</td></tr></table></li><li><table border=\"1\"><tr><th>@type</th><td style=text-align:left>PropertyValue</td></tr><tr><th>name</th><td style=text-align:left>lon</td></tr><tr><th>description</th><td style=text-align:left>Longitude value of the pixel cell</td></tr><tr><th>qudt:dataType</th><td style=text-align:left>xsd:decimal</td></tr></table></li><li><table border=\"1\"><tr><th>@type</th><td style=text-align:left>PropertyValue</td></tr><tr><th>name</th><td style=text-align:left>lat</td></tr><tr><th>description</th><td style=text-align:left>Latitude value of the pixel cell</td></tr><tr><th>qudt:dataType</th><td style=text-align:left>xsd:decimal</td></tr></table></li></ul></td></tr></table></li><li><table border=\"1\"><tr><th>@type</th><td style=text-align:left>Dataset</td></tr><tr><th>name</th><td style=text-align:left>encounter_prob_monthly_municipality</td></tr><tr><th>conditionsOfAccess</th><td style=text-align:left>Public.</td></tr><tr><th>description</th><td style=text-align:left>Same as gridded probability of encounter but resampling is done over the municipality administrative units level</td></tr><tr><th>distribution</th><td style=text-align:left><ul><li><table border=\"1\"><tr><th>@type</th><td style=text-align:left>DataDownload</td></tr><tr><th>name</th><td style=text-align:left>webserver_mosquitoalert_com_http</td></tr><tr><th>description</th><td style=text-align:left>Distribution by HTTP download from MosquitoAlert webserver</td></tr><tr><th>encodingFormat</th><td style=text-align:left>CSV</td></tr><tr><th>url</th><td style=text-align:left>./notebook/model_tables.py</td></tr><tr><th>contentUrl</th><td style=text-align:left>http://webserver.mosquitoalert.com/static/tigapublic/models/vector/municipalities/{MOSQUITO_TYPE}/{YEAR}/{MONTH}/mascp_monthly.csv</td></tr><tr><th>contentSize</th><td style=text-align:left>0.1MB</td></tr></table></li><li><table border=\"1\"><tr><th>@type</th><td style=text-align:left>DataDownload</td></tr><tr><th>name</th><td style=text-align:left>webserver_mosquitoalert_com_sftp</td></tr><tr><th>description</th><td style=text-align:left>Distribution by SFTP download from MosquitoAlert webserver</td></tr><tr><th>encodingFormat</th><td style=text-align:left>CSV</td></tr><tr><th>url</th><td style=text-align:left>./notebook/model_tables.py</td></tr><tr><th>contentUrl</th><td style=text-align:left>sftp://epidata@webserver.mosquitoalert.com:9122/home/epidata/models/vector/municipalities/{MOSQUITO_TYPE}/{YEAR}/{MONTH}/mascp_monthly.csv</td></tr><tr><th>contentSize</th><td style=text-align:left>0.1MB</td></tr></table></li></ul></td></tr><tr><th>variableMeasured</th><td style=text-align:left><ul><li><table border=\"1\"><tr><th>@type</th><td style=text-align:left>PropertyValue</td></tr><tr><th>name</th><td style=text-align:left>month</td></tr><tr><th>description</th><td style=text-align:left>Month number</td></tr><tr><th>qudt:dataType</th><td style=text-align:left>xsd:int</td></tr></table></li><li><table border=\"1\"><tr><th>@type</th><td style=text-align:left>PropertyValue</td></tr><tr><th>name</th><td style=text-align:left>PROVMUN</td></tr><tr><th>description</th><td style=text-align:left>Municipality code. Example: 15044</td></tr><tr><th>qudt:dataType</th><td style=text-align:left>xsd:int</td></tr></table></li><li><table border=\"1\"><tr><th>@type</th><td style=text-align:left>PropertyValue</td></tr><tr><th>name</th><td style=text-align:left>prob_l95</td></tr><tr><th>description</th><td style=text-align:left>Lower probability value for 95% confidence level </td></tr><tr><th>qudt:dataType</th><td style=text-align:left>xsd:decimal</td></tr></table></li><li><table border=\"1\"><tr><th>@type</th><td style=text-align:left>PropertyValue</td></tr><tr><th>name</th><td style=text-align:left>prob_median</td></tr><tr><th>description</th><td style=text-align:left>Mediant probability value </td></tr><tr><th>qudt:dataType</th><td style=text-align:left>xsd:decimal</td></tr></table></li><li><table border=\"1\"><tr><th>@type</th><td style=text-align:left>PropertyValue</td></tr><tr><th>name</th><td style=text-align:left>prob_u95</td></tr><tr><th>description</th><td style=text-align:left>Upper probability value for 95% confidence level</td></tr><tr><th>qudt:dataType</th><td style=text-align:left>xsd:decimal</td></tr></table></li><li><table border=\"1\"><tr><th>@type</th><td style=text-align:left>PropertyValue</td></tr><tr><th>name</th><td style=text-align:left>sd</td></tr><tr><th>description</th><td style=text-align:left>Standard deviation probability value</td></tr><tr><th>qudt:dataType</th><td style=text-align:left>xsd:decimal</td></tr></table></li></ul></td></tr></table></li><li><table border=\"1\"><tr><th>@type</th><td style=text-align:left>Dataset</td></tr><tr><th>name</th><td style=text-align:left>biting_prob_monthly_grid</td></tr><tr><th>conditionsOfAccess</th><td style=text-align:left>Public.</td></tr><tr><th>description</th><td style=text-align:left>Estimated probability of mosquito bites on monthly basis. Estimates are based on the data sent by citizens to Mosquito Alert. Tables are stored in folders by time. The first estimates for a month are based on observations received for that month in previous years, estimates that are updated weekly with data for the current year. Estimates are displayed in grids of approximately 2x2 kilometers (grid of 0.05 degrees latitude by 0.05 degrees longitude). This calculation takes into account the sampling effort, considering the number of participants with the active app in each grid in the defined time (see the “sampling effort” layer). The probability of mosquitoes is higher in a grid in which 10 observations have been received and there are 5 participants, than in another with 10 observations and 10 participants. Modeling observations and active participants determines the value of the probability shown on the map.</td></tr><tr><th>distribution</th><td style=text-align:left><ul><li><table border=\"1\"><tr><th>@type</th><td style=text-align:left>DataDownload</td></tr><tr><th>name</th><td style=text-align:left>webserver_mosquitoalert_com_http</td></tr><tr><th>description</th><td style=text-align:left>Distribution by HTTP download from MosquitoAlert webserver</td></tr><tr><th>encodingFormat</th><td style=text-align:left>CSV</td></tr><tr><th>url</th><td style=text-align:left>./notebook/model_tables.py</td></tr><tr><th>contentUrl</th><td style=text-align:left>http://webserver.mosquitoalert.com/static/tigapublic/models/biting/{YEAR}/{MONTH}/mascp_monthly.csv</td></tr><tr><th>contentSize</th><td style=text-align:left>0.1MB</td></tr></table></li><li><table border=\"1\"><tr><th>@type</th><td style=text-align:left>DataDownload</td></tr><tr><th>name</th><td style=text-align:left>webserver_mosquitoalert_com_sftp</td></tr><tr><th>description</th><td style=text-align:left>Distribution by SFTP download from MosquitoAlert webserver</td></tr><tr><th>encodingFormat</th><td style=text-align:left>CSV</td></tr><tr><th>url</th><td style=text-align:left>./notebook/model_tables.py</td></tr><tr><th>contentUrl</th><td style=text-align:left>sftp://epidata@webserver.mosquitoalert.com:9122/home/epidata/models/biting/{YEAR}/{MONTH}/mascp_monthly.csv</td></tr><tr><th>contentSize</th><td style=text-align:left>0.1MB</td></tr></table></li></ul></td></tr><tr><th>variableMeasured</th><td style=text-align:left><ul><li><table border=\"1\"><tr><th>@type</th><td style=text-align:left>PropertyValue</td></tr><tr><th>name</th><td style=text-align:left>month</td></tr><tr><th>description</th><td style=text-align:left>Month number</td></tr><tr><th>qudt:dataType</th><td style=text-align:left>xsd:int</td></tr></table></li><li><table border=\"1\"><tr><th>@type</th><td style=text-align:left>PropertyValue</td></tr><tr><th>name</th><td style=text-align:left>TigacellID</td></tr><tr><th>description</th><td style=text-align:left>Longitude and latitude underscore separated ID. Example: -0.05_38.6</td></tr><tr><th>qudt:dataType</th><td style=text-align:left>xsd:string</td></tr></table></li><li><table border=\"1\"><tr><th>@type</th><td style=text-align:left>PropertyValue</td></tr><tr><th>name</th><td style=text-align:left>prob_l95</td></tr><tr><th>description</th><td style=text-align:left>Lower probability value for 95% confidence level </td></tr><tr><th>qudt:dataType</th><td style=text-align:left>xsd:decimal</td></tr></table></li><li><table border=\"1\"><tr><th>@type</th><td style=text-align:left>PropertyValue</td></tr><tr><th>name</th><td style=text-align:left>median_u95</td></tr><tr><th>description</th><td style=text-align:left>Median probability value</td></tr><tr><th>qudt:dataType</th><td style=text-align:left>xsd:decimal</td></tr></table></li><li><table border=\"1\"><tr><th>@type</th><td style=text-align:left>PropertyValue</td></tr><tr><th>name</th><td style=text-align:left>prob_u95</td></tr><tr><th>description</th><td style=text-align:left>Upper probability value for 95% confidence level</td></tr><tr><th>qudt:dataType</th><td style=text-align:left>xsd:decimal</td></tr></table></li><li><table border=\"1\"><tr><th>@type</th><td style=text-align:left>PropertyValue</td></tr><tr><th>name</th><td style=text-align:left>sd</td></tr><tr><th>description</th><td style=text-align:left>Standard deviation value</td></tr><tr><th>qudt:dataType</th><td style=text-align:left>xsd:decimal</td></tr></table></li><li><table border=\"1\"><tr><th>@type</th><td style=text-align:left>PropertyValue</td></tr><tr><th>name</th><td style=text-align:left>lon</td></tr><tr><th>description</th><td style=text-align:left>Longitude value of the pixel cell</td></tr><tr><th>qudt:dataType</th><td style=text-align:left>xsd:decimal</td></tr></table></li><li><table border=\"1\"><tr><th>@type</th><td style=text-align:left>PropertyValue</td></tr><tr><th>name</th><td style=text-align:left>lat</td></tr><tr><th>description</th><td style=text-align:left>Latitude value of the pixel cell</td></tr><tr><th>qudt:dataType</th><td style=text-align:left>xsd:decimal</td></tr></table></li></ul></td></tr></table></li><li><table border=\"1\"><tr><th>@type</th><td style=text-align:left>Dataset</td></tr><tr><th>name</th><td style=text-align:left>estimated_sampling_effort_monthly_grid</td></tr><tr><th>conditionsOfAccess</th><td style=text-align:left>Public.</td></tr><tr><th>description</th><td style=text-align:left>Estimated sampling effort given by Mosquito Alert users location on monthly basis on a grid of 0.05 degree.</td></tr><tr><th>distribution</th><td style=text-align:left><table border=\"1\"><tr><th>@type</th><td style=text-align:left>DataDownload</td></tr><tr><th>name</th><td style=text-align:left>webserver_mosquitoalert_com_sftp</td></tr><tr><th>description</th><td style=text-align:left>Distribution by SFTP download from MosquitoAlert webserver</td></tr><tr><th>encodingFormat</th><td style=text-align:left>CSV</td></tr><tr><th>url</th><td style=text-align:left></td></tr><tr><th>contentUrl</th><td style=text-align:left></td></tr><tr><th>contentSize</th><td style=text-align:left></td></tr></table></td></tr><tr><th>variableMeasured</th><td style=text-align:left><ul><li><table border=\"1\"><tr><th>@type</th><td style=text-align:left>PropertyValue</td></tr><tr><th>name</th><td style=text-align:left></td></tr><tr><th>description</th><td style=text-align:left></td></tr><tr><th>qudt:dataType</th><td style=text-align:left>xsd:</td></tr></table></li></ul></td></tr></table></li></ul></td></tr></table>"
      ],
      "text/plain": [
       "<IPython.core.display.HTML object>"
      ]
     },
     "execution_count": 4,
     "metadata": {},
     "output_type": "execute_result"
    }
   ],
   "source": [
    "# NO CODE\n",
    "# FULL WIDTH\n",
    "with open(f'{path}.json') as f:\n",
    "    data = json.load(f)\n",
    "\n",
    "table = json2html.convert(json=data, clubbing=False)\n",
    "table_sub = re.sub('<td>', '<td style=text-align:left>', table)\n",
    "\n",
    "HTML(table_sub)\n",
    "\n",
    "# Run the following in the command line to build a html table\n",
    "# $ jupyter nbconvert --to html --no-input --no-prompt build_tables.ipynb\n"
   ]
  },
  {
   "cell_type": "code",
   "execution_count": null,
   "id": "excessive-knife",
   "metadata": {
    "papermill": {
     "duration": 0.008254,
     "end_time": "2021-12-23T14:24:18.875660",
     "exception": false,
     "start_time": "2021-12-23T14:24:18.867406",
     "status": "completed"
    },
    "tags": []
   },
   "outputs": [],
   "source": []
  }
 ],
 "metadata": {
  "interpreter": {
   "hash": "524d3359b179f3b444361f48db8ae048bd8c237924fac1cd48a4c6f8144f6452"
  },
  "kernelspec": {
   "display_name": "Python 3.7.10 64-bit ('scidb': conda)",
   "language": "python",
   "name": "python3"
  },
  "language_info": {
   "codemirror_mode": {
    "name": "ipython",
    "version": 3
   },
   "file_extension": ".py",
   "mimetype": "text/x-python",
   "name": "python",
   "nbconvert_exporter": "python",
   "pygments_lexer": "ipython3",
   "version": "3.7.10"
  },
  "metadata": {
   "interpreter": {
    "hash": "e3961729dbf4ff77740ff872c9a3eef08621b5b434e3d8d81026af4505918c74"
   }
  },
  "papermill": {
   "default_parameters": {},
   "duration": 1.351045,
   "end_time": "2021-12-23T14:24:19.197308",
   "environment_variables": {},
   "exception": null,
   "input_path": "build_info.ipynb",
   "output_path": "./meta_ipynb/model_tables.ipynb",
   "parameters": {
    "path": "./meta/mosquito_alert/model_tables"
   },
   "start_time": "2021-12-23T14:24:17.846263",
   "version": "2.3.3"
  }
 },
 "nbformat": 4,
 "nbformat_minor": 5
}