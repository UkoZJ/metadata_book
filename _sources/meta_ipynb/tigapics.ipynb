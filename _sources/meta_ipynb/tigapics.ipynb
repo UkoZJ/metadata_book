{
 "cells": [
  {
   "cell_type": "markdown",
   "id": "specific-worth",
   "metadata": {
    "papermill": {
     "duration": 0.016076,
     "end_time": "2021-12-23T14:24:12.889439",
     "exception": false,
     "start_time": "2021-12-23T14:24:12.873363",
     "status": "completed"
    },
    "tags": []
   },
   "source": [
    "# Metadata table"
   ]
  },
  {
   "cell_type": "code",
   "execution_count": 1,
   "id": "engaged-invasion",
   "metadata": {
    "execution": {
     "iopub.execute_input": "2021-12-23T14:24:12.916698Z",
     "iopub.status.busy": "2021-12-23T14:24:12.915829Z",
     "iopub.status.idle": "2021-12-23T14:24:12.921549Z",
     "shell.execute_reply": "2021-12-23T14:24:12.920520Z"
    },
    "papermill": {
     "duration": 0.023635,
     "end_time": "2021-12-23T14:24:12.921797",
     "exception": false,
     "start_time": "2021-12-23T14:24:12.898162",
     "status": "completed"
    },
    "tags": [
     "remove-input"
    ]
   },
   "outputs": [],
   "source": [
    "# NO CODE\n",
    "from json2html import json2html\n",
    "import json, re\n",
    "from IPython.core.display import HTML, display"
   ]
  },
  {
   "cell_type": "code",
   "execution_count": 2,
   "id": "invisible-intention",
   "metadata": {
    "execution": {
     "iopub.execute_input": "2021-12-23T14:24:12.951214Z",
     "iopub.status.busy": "2021-12-23T14:24:12.950331Z",
     "iopub.status.idle": "2021-12-23T14:24:12.954724Z",
     "shell.execute_reply": "2021-12-23T14:24:12.953640Z"
    },
    "papermill": {
     "duration": 0.020312,
     "end_time": "2021-12-23T14:24:12.954938",
     "exception": false,
     "start_time": "2021-12-23T14:24:12.934626",
     "status": "completed"
    },
    "tags": [
     "parameters",
     "remove-input"
    ]
   },
   "outputs": [],
   "source": [
    "# NO CODE\n",
    "# PARAMETERS\n",
    "path = './meta/environment/meteocat_xema'"
   ]
  },
  {
   "cell_type": "code",
   "execution_count": 3,
   "id": "applicable-criticism",
   "metadata": {
    "execution": {
     "iopub.execute_input": "2021-12-23T14:24:12.977049Z",
     "iopub.status.busy": "2021-12-23T14:24:12.975829Z",
     "iopub.status.idle": "2021-12-23T14:24:12.978625Z",
     "shell.execute_reply": "2021-12-23T14:24:12.979374Z"
    },
    "papermill": {
     "duration": 0.016607,
     "end_time": "2021-12-23T14:24:12.979830",
     "exception": false,
     "start_time": "2021-12-23T14:24:12.963223",
     "status": "completed"
    },
    "tags": [
     "injected-parameters"
    ]
   },
   "outputs": [],
   "source": [
    "# Parameters\n",
    "path = \"./meta/mosquito_alert/tigapics\"\n"
   ]
  },
  {
   "cell_type": "code",
   "execution_count": 4,
   "id": "applicable-photography",
   "metadata": {
    "execution": {
     "iopub.execute_input": "2021-12-23T14:24:13.014502Z",
     "iopub.status.busy": "2021-12-23T14:24:13.003481Z",
     "iopub.status.idle": "2021-12-23T14:24:13.022069Z",
     "shell.execute_reply": "2021-12-23T14:24:13.020827Z"
    },
    "papermill": {
     "duration": 0.034895,
     "end_time": "2021-12-23T14:24:13.022363",
     "exception": false,
     "start_time": "2021-12-23T14:24:12.987468",
     "status": "completed"
    },
    "tags": [
     "remove-input",
     "full-width"
    ]
   },
   "outputs": [
    {
     "data": {
      "text/html": [
       "<table border=\"1\"><tr><th>@context</th><td style=text-align:left><table border=\"1\"><tr><th>@vocab</th><td style=text-align:left>https://schema.org/</td></tr><tr><th>qudt</th><td style=text-align:left>http://qudt.org/schema/qudt/</td></tr><tr><th>xsd</th><td style=text-align:left>http://www.w3.org/2001/XMLSchema#</td></tr></table></td></tr><tr><th>@type</th><td style=text-align:left>Dataset</td></tr><tr><th>name</th><td style=text-align:left>ma_tigapics</td></tr><tr><th>conditionsOfAccess</th><td style=text-align:left>Public.</td></tr><tr><th>description</th><td style=text-align:left>Mosquito Alert pictures relative to adult mosquito encounters and breeding sites made by citizen science users of the app.</td></tr><tr><th>url</th><td style=text-align:left>http://webserver.mosquitoalert.com</td></tr><tr><th>sameAs</th><td style=text-align:left>http://webserver.mosquitoalert.com/media/tigapics/</td></tr><tr><th>identifier</th><td style=text-align:left></td></tr><tr><th>license</th><td style=text-align:left>https://creativecommons.org/publicdomain/zero/1.0/</td></tr><tr><th>citation</th><td style=text-align:left><ul><li>Direct Evidence of Adult Aedes albopictus Dispersal by Car. Roger, Eritja et al. (DOI: 10.1038/s41598-017-12652-5)</li><li>Citizen science provides a reliable and scalable tool to track disease-carrying mosquitoes.  John R B, Palmer et al. (DOI: 10.1038/s41467-017-00914-9)</li></ul></td></tr><tr><th>creator</th><td style=text-align:left><ul><li><table border=\"1\"><tr><th>@type</th><td style=text-align:left>Organization</td></tr><tr><th>@id</th><td style=text-align:left>CEAB</td></tr><tr><th>name</th><td style=text-align:left>Consejo Superior de Investigaciones Científicas - Centro de Estudios Avanzados de Blanes (CSIC-CEAB)</td></tr></table></li><li><table border=\"1\"><tr><th>@type</th><td style=text-align:left>Person</td></tr><tr><th>@id</th><td style=text-align:left>JG</td></tr><tr><th>name</th><td style=text-align:left>Garriga Farriol, Joan</td></tr></table></li><li><table border=\"1\"><tr><th>@type</th><td style=text-align:left>Person</td></tr><tr><th>@id</th><td style=text-align:left>AE</td></tr><tr><th>name</th><td style=text-align:left>Escobar Rúbies, Agustí</td></tr></table></li></ul></td></tr><tr><th>variableMeasured</th><td style=text-align:left></td></tr><tr><th>measurementTechnique</th><td style=text-align:left><ul><li>Mobile application for citizen science</li><li>Data validation by entomologists</li></ul></td></tr><tr><th>temporalCoverage</th><td style=text-align:left>2014/2019</td></tr><tr><th>spatialCoverage</th><td style=text-align:left><table border=\"1\"><tr><th>@type</th><td style=text-align:left>AdministrativeArea</td></tr><tr><th>name</th><td style=text-align:left>Worldwide</td></tr><tr><th>sameAs</th><td style=text-align:left>https://www.wikidata.org/wiki/Q13780930</td></tr></table></td></tr><tr><th>hasPart</th><td style=text-align:left><ul><li><table border=\"1\"><tr><th>@type</th><td style=text-align:left>Dataset</td></tr><tr><th>name</th><td style=text-align:left>ma_tigapics_webserver</td></tr><tr><th>conditionsOfAccess</th><td style=text-align:left>Public.</td></tr><tr><th>description</th><td style=text-align:left>Incremental backup of all the pictures (adults and sites) that can be viewed at the Mosquito Alert map webserver given a picture IID. Pictures could be downloaded even directly from webserver.mosquitoalert.com from its static resources but it&#x27;s more convenient to use sftp to the backup.</td></tr><tr><th>distribution</th><td style=text-align:left><ul><li><table border=\"1\"><tr><th>@type</th><td style=text-align:left>DataDownload</td></tr><tr><th>name</th><td style=text-align:left>laurus_backup</td></tr><tr><th>description</th><td style=text-align:left>Distribution by SFTP protocol from Laurus-CREAF VM.</td></tr><tr><th>encodingFormat</th><td style=text-align:left>JPG</td></tr><tr><th>url</th><td style=text-align:left>./notebooks/tigapics.py</td></tr><tr><th>contentUrl</th><td style=text-align:left>sftp://{USERNAME}@158.109.47.9/home/backup_aux/webuser/backup/synced_media/tigapics/{ID_PICNAME}.jpg</td></tr><tr><th>contentSize</th><td style=text-align:left>1/10MB</td></tr></table></li><li><table border=\"1\"><tr><th>@type</th><td style=text-align:left>DataDownload</td></tr><tr><th>name</th><td style=text-align:left>webserver_mosquitoalert_com</td></tr><tr><th>description</th><td style=text-align:left>Distribution by image download from MosquitoAlert webserver</td></tr><tr><th>encodingFormat</th><td style=text-align:left>JPG</td></tr><tr><th>url</th><td style=text-align:left>./notebooks/tigapics.py</td></tr><tr><th>contentUrl</th><td style=text-align:left>http://webserver.mosquitoalert.com/media/tigapics/{ID_PICNAME}</td></tr><tr><th>contentSize</th><td style=text-align:left>1/10MB</td></tr></table></li></ul></td></tr></table></li></ul></td></tr></table>"
      ],
      "text/plain": [
       "<IPython.core.display.HTML object>"
      ]
     },
     "execution_count": 4,
     "metadata": {},
     "output_type": "execute_result"
    }
   ],
   "source": [
    "# NO CODE\n",
    "# FULL WIDTH\n",
    "with open(f'{path}.json') as f:\n",
    "    data = json.load(f)\n",
    "\n",
    "table = json2html.convert(json=data, clubbing=False)\n",
    "table_sub = re.sub('<td>', '<td style=text-align:left>', table)\n",
    "\n",
    "HTML(table_sub)\n",
    "\n",
    "# Run the following in the command line to build a html table\n",
    "# $ jupyter nbconvert --to html --no-input --no-prompt build_tables.ipynb\n"
   ]
  },
  {
   "cell_type": "code",
   "execution_count": null,
   "id": "acknowledged-citizenship",
   "metadata": {
    "papermill": {
     "duration": 0.008292,
     "end_time": "2021-12-23T14:24:13.040169",
     "exception": false,
     "start_time": "2021-12-23T14:24:13.031877",
     "status": "completed"
    },
    "tags": []
   },
   "outputs": [],
   "source": []
  }
 ],
 "metadata": {
  "interpreter": {
   "hash": "524d3359b179f3b444361f48db8ae048bd8c237924fac1cd48a4c6f8144f6452"
  },
  "kernelspec": {
   "display_name": "Python 3.7.10 64-bit ('scidb': conda)",
   "language": "python",
   "name": "python3"
  },
  "language_info": {
   "codemirror_mode": {
    "name": "ipython",
    "version": 3
   },
   "file_extension": ".py",
   "mimetype": "text/x-python",
   "name": "python",
   "nbconvert_exporter": "python",
   "pygments_lexer": "ipython3",
   "version": "3.7.10"
  },
  "metadata": {
   "interpreter": {
    "hash": "e3961729dbf4ff77740ff872c9a3eef08621b5b434e3d8d81026af4505918c74"
   }
  },
  "papermill": {
   "default_parameters": {},
   "duration": 1.268326,
   "end_time": "2021-12-23T14:24:13.359748",
   "environment_variables": {},
   "exception": null,
   "input_path": "build_info.ipynb",
   "output_path": "./meta_ipynb/tigapics.ipynb",
   "parameters": {
    "path": "./meta/mosquito_alert/tigapics"
   },
   "start_time": "2021-12-23T14:24:12.091422",
   "version": "2.3.3"
  }
 },
 "nbformat": 4,
 "nbformat_minor": 5
}