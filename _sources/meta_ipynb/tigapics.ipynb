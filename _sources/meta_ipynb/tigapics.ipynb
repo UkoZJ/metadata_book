{
 "cells": [
  {
   "cell_type": "markdown",
   "id": "aging-product",
   "metadata": {
    "papermill": {
     "duration": 0.009995,
     "end_time": "2022-01-24T13:35:16.029748",
     "exception": false,
     "start_time": "2022-01-24T13:35:16.019753",
     "status": "completed"
    },
    "tags": []
   },
   "source": [
    "# Metadata table"
   ]
  },
  {
   "cell_type": "code",
   "execution_count": 1,
   "id": "foster-mortgage",
   "metadata": {
    "execution": {
     "iopub.execute_input": "2022-01-24T13:35:16.058007Z",
     "iopub.status.busy": "2022-01-24T13:35:16.056801Z",
     "iopub.status.idle": "2022-01-24T13:35:16.064568Z",
     "shell.execute_reply": "2022-01-24T13:35:16.061940Z"
    },
    "papermill": {
     "duration": 0.027138,
     "end_time": "2022-01-24T13:35:16.064970",
     "exception": false,
     "start_time": "2022-01-24T13:35:16.037832",
     "status": "completed"
    },
    "tags": [
     "remove-input"
    ]
   },
   "outputs": [],
   "source": [
    "# NO CODE\n",
    "from json2html import json2html\n",
    "import json, re\n",
    "from IPython.core.display import HTML, display"
   ]
  },
  {
   "cell_type": "code",
   "execution_count": 2,
   "id": "laughing-count",
   "metadata": {
    "execution": {
     "iopub.execute_input": "2022-01-24T13:35:16.087373Z",
     "iopub.status.busy": "2022-01-24T13:35:16.086663Z",
     "iopub.status.idle": "2022-01-24T13:35:16.092088Z",
     "shell.execute_reply": "2022-01-24T13:35:16.091026Z"
    },
    "papermill": {
     "duration": 0.019075,
     "end_time": "2022-01-24T13:35:16.092372",
     "exception": false,
     "start_time": "2022-01-24T13:35:16.073297",
     "status": "completed"
    },
    "tags": [
     "parameters",
     "remove-input"
    ]
   },
   "outputs": [],
   "source": [
    "# NO CODE\n",
    "# PARAMETERS\n",
    "path = './meta/environment/meteocat_xema'"
   ]
  },
  {
   "cell_type": "code",
   "execution_count": 3,
   "id": "joined-british",
   "metadata": {
    "execution": {
     "iopub.execute_input": "2022-01-24T13:35:16.117103Z",
     "iopub.status.busy": "2022-01-24T13:35:16.116345Z",
     "iopub.status.idle": "2022-01-24T13:35:16.120439Z",
     "shell.execute_reply": "2022-01-24T13:35:16.119835Z"
    },
    "papermill": {
     "duration": 0.018977,
     "end_time": "2022-01-24T13:35:16.120617",
     "exception": false,
     "start_time": "2022-01-24T13:35:16.101640",
     "status": "completed"
    },
    "tags": [
     "injected-parameters"
    ]
   },
   "outputs": [],
   "source": [
    "# Parameters\n",
    "path = \"./meta/mosquito_alert/tigapics\"\n"
   ]
  },
  {
   "cell_type": "code",
   "execution_count": 4,
   "id": "prerequisite-county",
   "metadata": {
    "execution": {
     "iopub.execute_input": "2022-01-24T13:35:16.162415Z",
     "iopub.status.busy": "2022-01-24T13:35:16.160472Z",
     "iopub.status.idle": "2022-01-24T13:35:16.166589Z",
     "shell.execute_reply": "2022-01-24T13:35:16.167122Z"
    },
    "papermill": {
     "duration": 0.035941,
     "end_time": "2022-01-24T13:35:16.167312",
     "exception": false,
     "start_time": "2022-01-24T13:35:16.131371",
     "status": "completed"
    },
    "tags": [
     "remove-input",
     "full-width"
    ]
   },
   "outputs": [
    {
     "data": {
      "text/html": [
       "<table border=\"1\"><tr><th>@context</th><td style=text-align:left><table border=\"1\"><tr><th>@vocab</th><td style=text-align:left>https://schema.org/</td></tr><tr><th>qudt</th><td style=text-align:left>http://qudt.org/schema/qudt/</td></tr><tr><th>xsd</th><td style=text-align:left>http://www.w3.org/2001/XMLSchema#</td></tr></table></td></tr><tr><th>@type</th><td style=text-align:left>Dataset</td></tr><tr><th>name</th><td style=text-align:left>tigapics</td></tr><tr><th>conditionsOfAccess</th><td style=text-align:left>Public.</td></tr><tr><th>description</th><td style=text-align:left>Pictures of adult mosquitos and breeding sites. Classification labels are provided for ML training for the pictures of mosquitos visualized on the MosquitoAlert map.</td></tr><tr><th>url</th><td style=text-align:left>http://webserver.mosquitoalert.com</td></tr><tr><th>identifier</th><td style=text-align:left></td></tr><tr><th>license</th><td style=text-align:left>https://creativecommons.org/publicdomain/zero/1.0/</td></tr><tr><th>citation</th><td style=text-align:left><ul><li>Direct Evidence of Adult Aedes albopictus Dispersal by Car. Roger, Eritja et al. (DOI: 10.1038/s41598-017-12652-5)</li><li>Citizen science provides a reliable and scalable tool to track disease-carrying mosquitoes.  John R B, Palmer et al. (DOI: 10.1038/s41467-017-00914-9)</li></ul></td></tr><tr><th>creator</th><td style=text-align:left><ul><li><table border=\"1\"><tr><th>@type</th><td style=text-align:left>Organization</td></tr><tr><th>@id</th><td style=text-align:left>CEAB</td></tr><tr><th>name</th><td style=text-align:left>Consejo Superior de Investigaciones Científicas - Centro de Estudios Avanzados de Blanes (CSIC-CEAB)</td></tr></table></li><li><table border=\"1\"><tr><th>@type</th><td style=text-align:left>Person</td></tr><tr><th>@id</th><td style=text-align:left>JG</td></tr><tr><th>name</th><td style=text-align:left>Garriga Farriol, Joan</td></tr></table></li><li><table border=\"1\"><tr><th>@type</th><td style=text-align:left>Person</td></tr><tr><th>@id</th><td style=text-align:left>AE</td></tr><tr><th>name</th><td style=text-align:left>Escobar Rúbies, Agustí</td></tr></table></li></ul></td></tr><tr><th>variableMeasured</th><td style=text-align:left></td></tr><tr><th>measurementTechnique</th><td style=text-align:left><ul><li>Sampling. Anonymous citizen scientists send reports of possible observations of mosquitoes, their breeding sites and bites using the open source and free smartphone app Mosquito Alert. To send an observation, participants need to answer a small questionnaire (taxonomic questions in the case of mosquitoes or some descriptors in the case of breeding sites), indicate the location (current participant location or selecting it on a map), add a picture (optional) and notes or comments (optional). The app and project website offers information to help identify the target species and take good pictures that allow a proper post validation from entomologists (see more information onQuality Control section). Participants can edit or remove the observation at any time (only if the participant still maintains the Mosquito Alert app in their phone). The last version of each report is considered the prevailing information. There is no pre-set sampling frequency: participants can send as many data as they like. The project runs &quot;face-to-face data collection events&quot; mainly in schools, meaning that in some places and for a given time period, data sampling might be more intense. This is also true when and where there has been a particular dissemination event.</li><li>Quality control. Each report containing at least one picture evaluated by three independent entomologist and, if needed, reviewed by a fourth expert(senior entomologist). The dataset only includes reports from citizen staged by them as &quot;adult mosquito&quot;, that contain at least one picture and that it has been evaluated by entomological experts.</li></ul></td></tr><tr><th>temporalCoverage</th><td style=text-align:left>2014/2021</td></tr><tr><th>spatialCoverage</th><td style=text-align:left><table border=\"1\"><tr><th>@type</th><td style=text-align:left>Place</td></tr><tr><th>name</th><td style=text-align:left>Worldwide</td></tr><tr><th>sameAs</th><td style=text-align:left>https://www.wikidata.org/wiki/Q13780930</td></tr></table></td></tr><tr><th>hasPart</th><td style=text-align:left><ul><li><table border=\"1\"><tr><th>@type</th><td style=text-align:left>Dataset</td></tr><tr><th>name</th><td style=text-align:left>tigapics_mosquitoalert</td></tr><tr><th>conditionsOfAccess</th><td style=text-align:left>Public.</td></tr><tr><th>description</th><td style=text-align:left>Incremental backup of all the pictures (adults and sites) that can be viewed at the Mosquito Alert map webserver given a picture IID. Pictures could be downloaded even directly from webserver.mosquitoalert.com from its static resources but it&#x27;s more convenient to use sftp to the backup.</td></tr><tr><th>distribution</th><td style=text-align:left><ul><li><table border=\"1\"><tr><th>@type</th><td style=text-align:left>DataDownload</td></tr><tr><th>name</th><td style=text-align:left>mosquitoalert_com</td></tr><tr><th>description</th><td style=text-align:left>Distribution by image download from MosquitoAlert webserver</td></tr><tr><th>encodingFormat</th><td style=text-align:left>JPG, PNG</td></tr><tr><th>url</th><td style=text-align:left>./notebooks/tigapics.py</td></tr><tr><th>contentUrl</th><td style=text-align:left>http://webserver.mosquitoalert.com/media/tigapics/{ID_PICNAME}</td></tr><tr><th>contentSize</th><td style=text-align:left>1/10MB</td></tr></table></li><li><table border=\"1\"><tr><th>@type</th><td style=text-align:left>DataDownload</td></tr><tr><th>name</th><td style=text-align:left>laurus_backup</td></tr><tr><th>description</th><td style=text-align:left>Distribution by SFTP protocol from Laurus-CREAF VM.</td></tr><tr><th>encodingFormat</th><td style=text-align:left>JPG, PNG</td></tr><tr><th>url</th><td style=text-align:left>./notebooks/tigapics.py</td></tr><tr><th>contentUrl</th><td style=text-align:left>sftp://{USERNAME}@158.109.47.9/home/backup_aux/webuser/backup/synced_media/tigapics/{ID_PICNAME}.jpg</td></tr><tr><th>contentSize</th><td style=text-align:left>1/10MB</td></tr></table></li></ul></td></tr></table></li><li><table border=\"1\"><tr><th>@type</th><td style=text-align:left>Dataset</td></tr><tr><th>name</th><td style=text-align:left>tigapics_labels_bioimagearchive</td></tr><tr><th>conditionsOfAccess</th><td style=text-align:left>Public.</td></tr><tr><th>description</th><td style=text-align:left>Adult mosquito labels that describe the tigapics_bioimagearchive dataset. Note that this list contains a &#x27;path&#x27; attribute that provides {SPECIES}/{ID_PICNAME}.</td></tr><tr><th>url</th><td style=text-align:left>https://www.ebi.ac.uk/biostudies/studies/S-BIAD249</td></tr><tr><th>distribution</th><td style=text-align:left><ul><li><table border=\"1\"><tr><th>@type</th><td style=text-align:left>DataDownload</td></tr><tr><th>name</th><td style=text-align:left>bioimagearchive</td></tr><tr><th>description</th><td style=text-align:left>Distribution by image-labels download from BioStudies webserver</td></tr><tr><th>encodingFormat</th><td style=text-align:left>TSV</td></tr><tr><th>url</th><td style=text-align:left>./notebooks/tigapics.py</td></tr><tr><th>contentUrl</th><td style=text-align:left>https://www.ebi.ac.uk/biostudies/files/S-BIAD249/File_List.pagetab.tsv</td></tr><tr><th>contentSize</th><td style=text-align:left>7MB</td></tr></table></li></ul></td></tr></table></li><li><table border=\"1\"><tr><th>@type</th><td style=text-align:left>Dataset</td></tr><tr><th>name</th><td style=text-align:left>tigapics_bioimagearchive</td></tr><tr><th>conditionsOfAccess</th><td style=text-align:left>Public.</td></tr><tr><th>description</th><td style=text-align:left>Adult mosquito pictures useful for machine-learning classification from the BioImage Archive repository. It is possible to download single images or species-chunks (&#x27;Aedes_albopictus&#x27;, &#x27;Aedes_aegypti&#x27;, &#x27;Aedes_japonicus&#x27;, &#x27;Aedes_koreicus&#x27;, &#x27;Japonicus_koreicus&#x27;, &#x27;Complex&#x27;, &#x27;Culex&#x27;, &#x27;Other_species&#x27;, &#x27;Not_sure&#x27;). Beside images, a file list is provided to label each image for ML classification.</td></tr><tr><th>url</th><td style=text-align:left>https://www.ebi.ac.uk/biostudies/studies/S-BIAD249</td></tr><tr><th>distribution</th><td style=text-align:left><ul><li><table border=\"1\"><tr><th>@type</th><td style=text-align:left>DataDownload</td></tr><tr><th>name</th><td style=text-align:left>bioimagearchive_single_image</td></tr><tr><th>description</th><td style=text-align:left>Distribution by image download from the BioImage Archive repository</td></tr><tr><th>encodingFormat</th><td style=text-align:left>JPG, PNG</td></tr><tr><th>url</th><td style=text-align:left>./notebooks/tigapics.py</td></tr><tr><th>contentUrl</th><td style=text-align:left>https://www.ebi.ac.uk/biostudies/files/S-BIAD249/{CLASS}/{ID_PICNAME}</td></tr><tr><th>contentSize</th><td style=text-align:left>1/10MB</td></tr></table></li><li><table border=\"1\"><tr><th>@type</th><td style=text-align:left>DataDownload</td></tr><tr><th>name</th><td style=text-align:left>bioimagearchive_class</td></tr><tr><th>description</th><td style=text-align:left>Distribution by image-chunks download from the BioImage Archive repository</td></tr><tr><th>encodingFormat</th><td style=text-align:left>[JPG, PNG].ZIP</td></tr><tr><th>url</th><td style=text-align:left>./notebooks/tigapics.py</td></tr><tr><th>contentUrl</th><td style=text-align:left>https://www.ebi.ac.uk/biostudies/files/S-BIAD249/{CLASS}</td></tr><tr><th>contentSize</th><td style=text-align:left>50/1000MB</td></tr></table></li></ul></td></tr></table></li></ul></td></tr></table>"
      ],
      "text/plain": [
       "<IPython.core.display.HTML object>"
      ]
     },
     "execution_count": 4,
     "metadata": {},
     "output_type": "execute_result"
    }
   ],
   "source": [
    "# NO CODE\n",
    "# FULL WIDTH\n",
    "with open(f'{path}.json') as f:\n",
    "    data = json.load(f)\n",
    "\n",
    "table = json2html.convert(json=data, clubbing=False)\n",
    "table_sub = re.sub('<td>', '<td style=text-align:left>', table)\n",
    "\n",
    "HTML(table_sub)\n",
    "\n",
    "# Run the following in the command line to build a html table\n",
    "# $ jupyter nbconvert --to html --no-input --no-prompt build_tables.ipynb\n"
   ]
  },
  {
   "cell_type": "code",
   "execution_count": null,
   "id": "different-guidance",
   "metadata": {
    "papermill": {
     "duration": 0.007506,
     "end_time": "2022-01-24T13:35:16.182968",
     "exception": false,
     "start_time": "2022-01-24T13:35:16.175462",
     "status": "completed"
    },
    "tags": []
   },
   "outputs": [],
   "source": []
  }
 ],
 "metadata": {
  "interpreter": {
   "hash": "524d3359b179f3b444361f48db8ae048bd8c237924fac1cd48a4c6f8144f6452"
  },
  "kernelspec": {
   "display_name": "Python 3.7.10 64-bit ('scidb': conda)",
   "language": "python",
   "name": "python3"
  },
  "language_info": {
   "codemirror_mode": {
    "name": "ipython",
    "version": 3
   },
   "file_extension": ".py",
   "mimetype": "text/x-python",
   "name": "python",
   "nbconvert_exporter": "python",
   "pygments_lexer": "ipython3",
   "version": "3.7.10"
  },
  "metadata": {
   "interpreter": {
    "hash": "e3961729dbf4ff77740ff872c9a3eef08621b5b434e3d8d81026af4505918c74"
   }
  },
  "papermill": {
   "default_parameters": {},
   "duration": 1.257867,
   "end_time": "2022-01-24T13:35:16.500943",
   "environment_variables": {},
   "exception": null,
   "input_path": "build_info.ipynb",
   "output_path": "./meta_ipynb/tigapics.ipynb",
   "parameters": {
    "path": "./meta/mosquito_alert/tigapics"
   },
   "start_time": "2022-01-24T13:35:15.243076",
   "version": "2.3.3"
  }
 },
 "nbformat": 4,
 "nbformat_minor": 5
}