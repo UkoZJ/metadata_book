{
 "cells": [
  {
   "cell_type": "markdown",
   "id": "indian-enclosure",
   "metadata": {
    "papermill": {
     "duration": 0.013195,
     "end_time": "2021-12-22T14:16:22.232059",
     "exception": false,
     "start_time": "2021-12-22T14:16:22.218864",
     "status": "completed"
    },
    "tags": []
   },
   "source": [
    "# Metadata table"
   ]
  },
  {
   "cell_type": "code",
   "execution_count": 1,
   "id": "third-ivory",
   "metadata": {
    "execution": {
     "iopub.execute_input": "2021-12-22T14:16:22.257178Z",
     "iopub.status.busy": "2021-12-22T14:16:22.255846Z",
     "iopub.status.idle": "2021-12-22T14:16:22.262387Z",
     "shell.execute_reply": "2021-12-22T14:16:22.261700Z"
    },
    "papermill": {
     "duration": 0.02242,
     "end_time": "2021-12-22T14:16:22.262554",
     "exception": false,
     "start_time": "2021-12-22T14:16:22.240134",
     "status": "completed"
    },
    "tags": [
     "remove-input"
    ]
   },
   "outputs": [],
   "source": [
    "# NO CODE\n",
    "from json2html import json2html\n",
    "import json, re\n",
    "from IPython.core.display import HTML, display"
   ]
  },
  {
   "cell_type": "code",
   "execution_count": 2,
   "id": "fitting-apparel",
   "metadata": {
    "execution": {
     "iopub.execute_input": "2021-12-22T14:16:22.291089Z",
     "iopub.status.busy": "2021-12-22T14:16:22.290158Z",
     "iopub.status.idle": "2021-12-22T14:16:22.295051Z",
     "shell.execute_reply": "2021-12-22T14:16:22.296712Z"
    },
    "papermill": {
     "duration": 0.024475,
     "end_time": "2021-12-22T14:16:22.297160",
     "exception": false,
     "start_time": "2021-12-22T14:16:22.272685",
     "status": "completed"
    },
    "tags": [
     "parameters",
     "remove-input"
    ]
   },
   "outputs": [],
   "source": [
    "# NO CODE\n",
    "# PARAMETERS\n",
    "path = './meta/environment/meteocat_xema'"
   ]
  },
  {
   "cell_type": "code",
   "execution_count": 3,
   "id": "sustainable-prince",
   "metadata": {
    "execution": {
     "iopub.execute_input": "2021-12-22T14:16:22.316028Z",
     "iopub.status.busy": "2021-12-22T14:16:22.315388Z",
     "iopub.status.idle": "2021-12-22T14:16:22.320347Z",
     "shell.execute_reply": "2021-12-22T14:16:22.319436Z"
    },
    "papermill": {
     "duration": 0.016137,
     "end_time": "2021-12-22T14:16:22.320536",
     "exception": false,
     "start_time": "2021-12-22T14:16:22.304399",
     "status": "completed"
    },
    "tags": [
     "injected-parameters"
    ]
   },
   "outputs": [],
   "source": [
    "# Parameters\n",
    "path = \"./meta/mosquito_alert/tigapics\"\n"
   ]
  },
  {
   "cell_type": "code",
   "execution_count": 4,
   "id": "controlling-operations",
   "metadata": {
    "execution": {
     "iopub.execute_input": "2021-12-22T14:16:22.352665Z",
     "iopub.status.busy": "2021-12-22T14:16:22.352012Z",
     "iopub.status.idle": "2021-12-22T14:16:22.370325Z",
     "shell.execute_reply": "2021-12-22T14:16:22.369243Z"
    },
    "papermill": {
     "duration": 0.039636,
     "end_time": "2021-12-22T14:16:22.370544",
     "exception": false,
     "start_time": "2021-12-22T14:16:22.330908",
     "status": "completed"
    },
    "tags": [
     "remove-input",
     "full-width"
    ]
   },
   "outputs": [
    {
     "data": {
      "text/html": [
       "<table border=\"1\"><tr><th>@context</th><td style=text-align:left><table border=\"1\"><tr><th>@vocab</th><td style=text-align:left>https://schema.org/</td></tr><tr><th>qudt</th><td style=text-align:left>http://qudt.org/schema/qudt/</td></tr><tr><th>xsd</th><td style=text-align:left>http://www.w3.org/2001/XMLSchema#</td></tr></table></td></tr><tr><th>@type</th><td style=text-align:left>Dataset</td></tr><tr><th>name</th><td style=text-align:left>ma_tigapics</td></tr><tr><th>description</th><td style=text-align:left>Mosquito Alert pictures relative to adult mosquito encounters and breeding sites made by citizen science users of the app.</td></tr><tr><th>url</th><td style=text-align:left>http://webserver.mosquitoalert.com</td></tr><tr><th>sameAs</th><td style=text-align:left>http://webserver.mosquitoalert.com/media/tigapics/</td></tr><tr><th>identifier</th><td style=text-align:left></td></tr><tr><th>license</th><td style=text-align:left>https://creativecommons.org/publicdomain/zero/1.0/</td></tr><tr><th>citation</th><td style=text-align:left><ul><li>Direct Evidence of Adult Aedes albopictus Dispersal by Car. Roger, Eritja et al. (DOI: 10.1038/s41598-017-12652-5)</li><li>Citizen science provides a reliable and scalable tool to track disease-carrying mosquitoes.  John R B, Palmer et al. (DOI: 10.1038/s41467-017-00914-9)</li></ul></td></tr><tr><th>creator</th><td style=text-align:left><ul><li><table border=\"1\"><tr><th>@type</th><td style=text-align:left>Organization</td></tr><tr><th>@id</th><td style=text-align:left>CEAB</td></tr><tr><th>name</th><td style=text-align:left>Consejo Superior de Investigaciones Científicas - Centro de Estudios Avanzados de Blanes (CSIC-CEAB)</td></tr></table></li><li><table border=\"1\"><tr><th>@type</th><td style=text-align:left>Person</td></tr><tr><th>@id</th><td style=text-align:left>JG</td></tr><tr><th>name</th><td style=text-align:left>Garriga Farriol, Joan</td></tr></table></li><li><table border=\"1\"><tr><th>@type</th><td style=text-align:left>Person</td></tr><tr><th>@id</th><td style=text-align:left>AE</td></tr><tr><th>name</th><td style=text-align:left>Escobar Rúbies, Agustí</td></tr></table></li></ul></td></tr><tr><th>variableMeasured</th><td style=text-align:left></td></tr><tr><th>measurementTechnique</th><td style=text-align:left><ul><li>Mobile application for citizen science</li><li>Data validation by entomologists</li></ul></td></tr><tr><th>temporalCoverage</th><td style=text-align:left>2014/2019</td></tr><tr><th>spatialCoverage</th><td style=text-align:left><table border=\"1\"><tr><th>@type</th><td style=text-align:left>AdministrativeArea</td></tr><tr><th>name</th><td style=text-align:left>Worldwide</td></tr><tr><th>sameAs</th><td style=text-align:left>https://www.wikidata.org/wiki/Q13780930</td></tr></table></td></tr><tr><th>hasPart</th><td style=text-align:left><ul><li><table border=\"1\"><tr><th>@type</th><td style=text-align:left>Dataset</td></tr><tr><th>name</th><td style=text-align:left>ma_tigapics_webserver</td></tr><tr><th>description</th><td style=text-align:left>Incremental backup of all the pictures (adults and sites) that can be viewed at the Mosquito Alert map webserver given a picture IID. Pictures could be downloaded even directly from webserver.mosquitoalert.com from its static resources but it&#x27;s more convenient to use sftp to the backup.</td></tr><tr><th>distribution</th><td style=text-align:left><ul><li><table border=\"1\"><tr><th>@type</th><td style=text-align:left>DataDownload</td></tr><tr><th>name</th><td style=text-align:left>laurus_backup</td></tr><tr><th>description</th><td style=text-align:left>Distribution by SFTP protocol from Laurus-CREAF VM.</td></tr><tr><th>encodingFormat</th><td style=text-align:left>JPG</td></tr><tr><th>url</th><td style=text-align:left>./notebooks/tigapics.py</td></tr><tr><th>contentUrl</th><td style=text-align:left>sftp://{USERNAME}@158.109.47.9/home/backup_aux/webuser/backup/synced_media/tigapics/{ID_PICNAME}.jpg</td></tr><tr><th>contentSize</th><td style=text-align:left>1/10MB</td></tr></table></li><li><table border=\"1\"><tr><th>@type</th><td style=text-align:left>DataDownload</td></tr><tr><th>name</th><td style=text-align:left>webserver_mosquitoalert_com</td></tr><tr><th>description</th><td style=text-align:left>Distribution by image download from MosquitoAlert webserver</td></tr><tr><th>encodingFormat</th><td style=text-align:left>JPG</td></tr><tr><th>url</th><td style=text-align:left>./notebooks/tigapics.py</td></tr><tr><th>contentUrl</th><td style=text-align:left>http://webserver.mosquitoalert.com/media/tigapics/{ID_PICNAME}</td></tr><tr><th>contentSize</th><td style=text-align:left>1/10MB</td></tr></table></li></ul></td></tr></table></li><li><table border=\"1\"><tr><th>@type</th><td style=text-align:left>Dataset</td></tr><tr><th>name</th><td style=text-align:left>ma_tigapics_koopex_raw_pics</td></tr><tr><th>description</th><td style=text-align:left>Mosquito Alert ML-classification pictures of mosquito adults stored on SeaFile cloud (Koopex VEO platform) with a yearly release</td></tr><tr><th>url</th><td style=text-align:left>https://kooplex-veo.elte.hu/seafile/published/mosquito-alert-image-dataset</td></tr><tr><th>distribution</th><td style=text-align:left><ul><li><table border=\"1\"><tr><th>@type</th><td style=text-align:left>DataDownload</td></tr><tr><th>name</th><td style=text-align:left>koopex_raw_images</td></tr><tr><th>description</th><td style=text-align:left>Distribution from SeaFile cloud repository of raw images</td></tr><tr><th>encodingFormat</th><td style=text-align:left>PNG.TAR.GZ</td></tr><tr><th>url</th><td style=text-align:left>./notebooks/tigapics.py</td></tr><tr><th>contentUrl</th><td style=text-align:left>https://kooplex-veo.elte.hu/seafile/d/c5d5f92e61424f649b68/files/?p=%2Fall_raw%2F{YEAR}%2Fimages.tar.gz&amp;dl=1</td></tr><tr><th>contentSize</th><td style=text-align:left>1.6GB</td></tr></table></li></ul></td></tr></table></li><li><table border=\"1\"><tr><th>@type</th><td style=text-align:left>Dataset</td></tr><tr><th>name</th><td style=text-align:left>ma_tigapics_koopex_raw_labels</td></tr><tr><th>description</th><td style=text-align:left>Mosquito Alert ML-classification labels relative to raw pictures of mosquito adults stored on SeaFile cloud (Koopex VEO platform) with a yearly release</td></tr><tr><th>url</th><td style=text-align:left>https://kooplex-veo.elte.hu/seafile/published/mosquito-alert-image-dataset</td></tr><tr><th>distribution</th><td style=text-align:left><ul><li><table border=\"1\"><tr><th>@type</th><td style=text-align:left>DataDownload</td></tr><tr><th>name</th><td style=text-align:left>koopex_raw_metadata</td></tr><tr><th>description</th><td style=text-align:left>Distribution from SeaFile cloud repository of classification labels relative to raw images</td></tr><tr><th>encodingFormat</th><td style=text-align:left>PNG.TAR.GZ</td></tr><tr><th>url</th><td style=text-align:left>./notebooks/tigapics.py</td></tr><tr><th>contentUrl</th><td style=text-align:left>https://kooplex-veo.elte.hu/seafile/d/c5d5f92e61424f649b68/files/?p=%2Fall_raw%2F{YEAR}%2FimgRef.txt&amp;dl=1</td></tr><tr><th>contentSize</th><td style=text-align:left>1MB</td></tr></table></li></ul></td></tr><tr><th>variableMeasured</th><td style=text-align:left><ul><li><table border=\"1\"><tr><th>@type</th><td style=text-align:left>PropertyValue</td></tr><tr><th>name</th><td style=text-align:left>imgNmb</td></tr><tr><th>description</th><td style=text-align:left>Image number (such that the corresponding image file name is str(imgNmb).zfill(6)+&#x27;.png&#x27;)</td></tr><tr><th>dataType</th><td style=text-align:left>xsd:string</td></tr></table></li><li><table border=\"1\"><tr><th>@type</th><td style=text-align:left>PropertyValue</td></tr><tr><th>name</th><td style=text-align:left>imgId</td></tr><tr><th>description</th><td style=text-align:left>Mosquito Alert xsd:internal image id (for xsd:internal purposes)</td></tr><tr><th>dataType</th><td style=text-align:left>xsd:string</td></tr></table></li><li><table border=\"1\"><tr><th>@type</th><td style=text-align:left>PropertyValue</td></tr><tr><th>name</th><td style=text-align:left>rprtId</td></tr><tr><th>description</th><td style=text-align:left>Mosquito Alert xsd:internal report id (for xsd:internal purposes)</td></tr><tr><th>dataType</th><td style=text-align:left>xsd:string</td></tr></table></li><li><table border=\"1\"><tr><th>@type</th><td style=text-align:left>PropertyValue</td></tr><tr><th>name</th><td style=text-align:left>imgDate</td></tr><tr><th>description</th><td style=text-align:left>Image date</td></tr><tr><th>dataType</th><td style=text-align:left>xsd:string</td></tr></table></li><li><table border=\"1\"><tr><th>@type</th><td style=text-align:left>PropertyValue</td></tr><tr><th>name</th><td style=text-align:left>imgTime</td></tr><tr><th>description</th><td style=text-align:left>Image time; (this is server upload time)</td></tr><tr><th>dataType</th><td style=text-align:left>xsd:string</td></tr></table></li><li><table border=\"1\"><tr><th>@type</th><td style=text-align:left>PropertyValue</td></tr><tr><th>name</th><td style=text-align:left>imgLon</td></tr><tr><th>description</th><td style=text-align:left>Image location longitude</td></tr><tr><th>dataType</th><td style=text-align:left>xsd:decimal</td></tr></table></li><li><table border=\"1\"><tr><th>@type</th><td style=text-align:left>PropertyValue</td></tr><tr><th>name</th><td style=text-align:left>imgLat</td></tr><tr><th>description</th><td style=text-align:left>Image location latitude</td></tr><tr><th>dataType</th><td style=text-align:left>xsd:decimal</td></tr></table></li><li><table border=\"1\"><tr><th>@type</th><td style=text-align:left>PropertyValue</td></tr><tr><th>name</th><td style=text-align:left>imgClass</td></tr><tr><th>description</th><td style=text-align:left>Image class as one of the following: &#x27;mosquito species&#x27; (e.g. &#x27;Ae. albopictus&#x27;, &#x27;Ae. aegypti&#x27;) when reporting an observation of one of our targeted species; &#x27;otherSpecies&#x27;, when reporting an observation of any other species; &#x27;canNotTell&#x27;, when the picture is not good enough so as to identify the species reported; &#x27;site&#x27;, when reporting a potential mosquito breeding-site; &#x27;otherSites&#x27;, when reporting a mosquito breeding-site that is not considered as such;</td></tr><tr><th>dataType</th><td style=text-align:left>xsd:string</td></tr></table></li><li><table border=\"1\"><tr><th>@type</th><td style=text-align:left>PropertyValue</td></tr><tr><th>name</th><td style=text-align:left>imgLabel</td></tr><tr><th>description</th><td style=text-align:left>Image label as one of the following: a) if the image has been validated by an expert, the label can be one of: &#x27;confirmed&#x27;; &#x27;probable&#x27; (this one applies only for targeted species classes); b) when there is not an explicit expert validation for the image, the image is labelled as: &#x27;notClassified&#x27;;</td></tr><tr><th>dataType</th><td style=text-align:left>xsd:string</td></tr></table></li><li><table border=\"1\"><tr><th>@type</th><td style=text-align:left>PropertyValue</td></tr><tr><th>name</th><td style=text-align:left>hidden</td></tr><tr><th>description</th><td style=text-align:left>A flag for pictures that for some reason (e.g. offensive, conflicting) are not shown in the map</td></tr><tr><th>dataType</th><td style=text-align:left>xsd:boolean</td></tr></table></li></ul></td></tr></table></li><li><table border=\"1\"><tr><th>@type</th><td style=text-align:left>Dataset</td></tr><tr><th>name</th><td style=text-align:left>ma_tigapics_koopex_cropped_pics</td></tr><tr><th>description</th><td style=text-align:left>Mosquito Alert ML-classification pictures of mosquito adults stored on SeaFile cloud (Koopex VEO platform) with a yearly release</td></tr><tr><th>url</th><td style=text-align:left>https://kooplex-veo.elte.hu/seafile/published/mosquito-alert-image-dataset</td></tr><tr><th>distribution</th><td style=text-align:left><ul><li><table border=\"1\"><tr><th>@type</th><td style=text-align:left>DataDownload</td></tr><tr><th>name</th><td style=text-align:left>koopex_raw_images</td></tr><tr><th>description</th><td style=text-align:left>Distribution from SeaFile cloud repository of cropped images</td></tr><tr><th>encodingFormat</th><td style=text-align:left>PNG.TAR.GZ</td></tr><tr><th>url</th><td style=text-align:left>./notebooks/tigapics.py</td></tr><tr><th>contentUrl</th><td style=text-align:left>https://kooplex-veo.elte.hu/seafile/d/c5d5f92e61424f649b68/files/?p=%2Fadult_cropped%2F{YEAR}%2Fimages_crop.tar.gz&amp;dl=1</td></tr><tr><th>contentSize</th><td style=text-align:left>700MB</td></tr></table></li></ul></td></tr></table></li><li><table border=\"1\"><tr><th>@type</th><td style=text-align:left>Dataset</td></tr><tr><th>name</th><td style=text-align:left>ma_tigapics_koopex_cropped_labels</td></tr><tr><th>description</th><td style=text-align:left>Mosquito Alert ML-classification labels relative to raw pictures of mosquito adults stored on SeaFile cloud (Koopex VEO platform) with a yearly release</td></tr><tr><th>url</th><td style=text-align:left>https://kooplex-veo.elte.hu/seafile/published/mosquito-alert-image-dataset</td></tr><tr><th>distribution</th><td style=text-align:left><ul><li><table border=\"1\"><tr><th>@type</th><td style=text-align:left>DataDownload</td></tr><tr><th>name</th><td style=text-align:left>koopex_cropped_labels</td></tr><tr><th>description</th><td style=text-align:left>Distribution from SeaFile cloud repository of classification labels relative to cropped images</td></tr><tr><th>encodingFormat</th><td style=text-align:left>PNG.TAR.GZ</td></tr><tr><th>url</th><td style=text-align:left>./notebooks/tigapics.py</td></tr><tr><th>contentUrl</th><td style=text-align:left>https://kooplex-veo.elte.hu/seafile/d/c5d5f92e61424f649b68/files/?p=%2Fall_raw%2F{YEAR}%2FimgRef.txt&amp;dl=1</td></tr><tr><th>contentSize</th><td style=text-align:left>1MB</td></tr></table></li></ul></td></tr><tr><th>variableMeasured</th><td style=text-align:left><ul><li><table border=\"1\"><tr><th>@type</th><td style=text-align:left>PropertyValue</td></tr><tr><th>name</th><td style=text-align:left>imgNmb</td></tr><tr><th>description</th><td style=text-align:left>Image number (such that the corresponding image file name is str(imgNmb).zfill(6)+&#x27;.png&#x27;)</td></tr><tr><th>dataType</th><td style=text-align:left>xsd:string</td></tr></table></li><li><table border=\"1\"><tr><th>@type</th><td style=text-align:left>PropertyValue</td></tr><tr><th>name</th><td style=text-align:left>imgId</td></tr><tr><th>description</th><td style=text-align:left>Mosquito Alert xsd:internal image id (for xsd:internal purposes)</td></tr><tr><th>dataType</th><td style=text-align:left>xsd:string</td></tr></table></li><li><table border=\"1\"><tr><th>@type</th><td style=text-align:left>PropertyValue</td></tr><tr><th>name</th><td style=text-align:left>rprtId</td></tr><tr><th>description</th><td style=text-align:left>Mosquito Alert xsd:internal report id (for xsd:internal purposes)</td></tr><tr><th>dataType</th><td style=text-align:left>xsd:string</td></tr></table></li><li><table border=\"1\"><tr><th>@type</th><td style=text-align:left>PropertyValue</td></tr><tr><th>name</th><td style=text-align:left>imgDate</td></tr><tr><th>description</th><td style=text-align:left>Image date</td></tr><tr><th>dataType</th><td style=text-align:left>xsd:string</td></tr></table></li><li><table border=\"1\"><tr><th>@type</th><td style=text-align:left>PropertyValue</td></tr><tr><th>name</th><td style=text-align:left>imgTime</td></tr><tr><th>description</th><td style=text-align:left>Image time; (this is server upload time)</td></tr><tr><th>dataType</th><td style=text-align:left>xsd:string</td></tr></table></li><li><table border=\"1\"><tr><th>@type</th><td style=text-align:left>PropertyValue</td></tr><tr><th>name</th><td style=text-align:left>imgLon</td></tr><tr><th>description</th><td style=text-align:left>Image location longitude</td></tr><tr><th>dataType</th><td style=text-align:left>xsd:decimal</td></tr></table></li><li><table border=\"1\"><tr><th>@type</th><td style=text-align:left>PropertyValue</td></tr><tr><th>name</th><td style=text-align:left>imgLat</td></tr><tr><th>description</th><td style=text-align:left>Image location latitude</td></tr><tr><th>dataType</th><td style=text-align:left>xsd:decimal</td></tr></table></li><li><table border=\"1\"><tr><th>@type</th><td style=text-align:left>PropertyValue</td></tr><tr><th>name</th><td style=text-align:left>imgClass</td></tr><tr><th>description</th><td style=text-align:left>Image class as one of the following: &#x27;mosquito species&#x27; (e.g. &#x27;Ae. albopictus&#x27;, &#x27;Ae. aegypti&#x27;) when reporting an observation of one of our targeted species; &#x27;otherSpecies&#x27;, when reporting an observation of any other species; &#x27;canNotTell&#x27;, when the picture is not good enough so as to identify the species reported; &#x27;site&#x27;, when reporting a potential mosquito breeding-site; &#x27;otherSites&#x27;, when reporting a mosquito breeding-site that is not considered as such;</td></tr><tr><th>dataType</th><td style=text-align:left>xsd:string</td></tr></table></li><li><table border=\"1\"><tr><th>@type</th><td style=text-align:left>PropertyValue</td></tr><tr><th>name</th><td style=text-align:left>imgLabel</td></tr><tr><th>description</th><td style=text-align:left>Image label as one of the following: a) if the image has been validated by an expert, the label can be one of: &#x27;confirmed&#x27;; &#x27;probable&#x27; (this one applies only for targeted species classes); b) when there is not an explicit expert validation for the image, the image is labelled as: &#x27;notClassified&#x27;;</td></tr><tr><th>dataType</th><td style=text-align:left>xsd:string</td></tr></table></li><li><table border=\"1\"><tr><th>@type</th><td style=text-align:left>PropertyValue</td></tr><tr><th>name</th><td style=text-align:left>hidden</td></tr><tr><th>description</th><td style=text-align:left>A flag for pictures that for some reason (e.g. offensive, conflicting) are not shown in the map</td></tr><tr><th>dataType</th><td style=text-align:left>xsd:boolean</td></tr></table></li></ul></td></tr></table></li></ul></td></tr></table>"
      ],
      "text/plain": [
       "<IPython.core.display.HTML object>"
      ]
     },
     "execution_count": 4,
     "metadata": {},
     "output_type": "execute_result"
    }
   ],
   "source": [
    "# NO CODE\n",
    "# FULL WIDTH\n",
    "with open(f'{path}.json') as f:\n",
    "    data = json.load(f)\n",
    "\n",
    "table = json2html.convert(json=data, clubbing=False)\n",
    "table_sub = re.sub('<td>', '<td style=text-align:left>', table)\n",
    "\n",
    "HTML(table_sub)\n",
    "\n",
    "# Run the following in the command line to build a html table\n",
    "# $ jupyter nbconvert --to html --no-input --no-prompt build_tables.ipynb\n"
   ]
  },
  {
   "cell_type": "code",
   "execution_count": null,
   "id": "comic-virginia",
   "metadata": {
    "papermill": {
     "duration": 0.007319,
     "end_time": "2021-12-22T14:16:22.388438",
     "exception": false,
     "start_time": "2021-12-22T14:16:22.381119",
     "status": "completed"
    },
    "tags": []
   },
   "outputs": [],
   "source": []
  }
 ],
 "metadata": {
  "interpreter": {
   "hash": "524d3359b179f3b444361f48db8ae048bd8c237924fac1cd48a4c6f8144f6452"
  },
  "kernelspec": {
   "display_name": "Python 3.7.10 64-bit ('scidb': conda)",
   "language": "python",
   "name": "python3"
  },
  "language_info": {
   "codemirror_mode": {
    "name": "ipython",
    "version": 3
   },
   "file_extension": ".py",
   "mimetype": "text/x-python",
   "name": "python",
   "nbconvert_exporter": "python",
   "pygments_lexer": "ipython3",
   "version": "3.7.10"
  },
  "metadata": {
   "interpreter": {
    "hash": "e3961729dbf4ff77740ff872c9a3eef08621b5b434e3d8d81026af4505918c74"
   }
  },
  "papermill": {
   "default_parameters": {},
   "duration": 1.494254,
   "end_time": "2021-12-22T14:16:22.705410",
   "environment_variables": {},
   "exception": null,
   "input_path": "build_info.ipynb",
   "output_path": "./meta_ipynb/tigapics.ipynb",
   "parameters": {
    "path": "./meta/mosquito_alert/tigapics"
   },
   "start_time": "2021-12-22T14:16:21.211156",
   "version": "2.3.3"
  }
 },
 "nbformat": 4,
 "nbformat_minor": 5
}