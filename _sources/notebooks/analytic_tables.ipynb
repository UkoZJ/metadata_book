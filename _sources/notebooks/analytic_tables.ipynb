{
 "cells": [
  {
   "cell_type": "markdown",
   "id": "previous-iraqi",
   "metadata": {},
   "source": [
    "# Catalog: analytic_tables\n",
    "\n",
    "Before we are able to download datasets that are part of the _analytic_tables_\n",
    "catalog we need a user name and password to ssh-access a remote machine.\n",
    "\n",
    "From our metadata catalog we are able to get all the necessary information\n",
    "to open a SFTP connection with the machine that holds our dataset. First we\n",
    "check what datasets are in the catalog."
   ]
  },
  {
   "cell_type": "code",
   "execution_count": null,
   "id": "typical-idaho",
   "metadata": {},
   "outputs": [],
   "source": [
    "import src.utils as ut\n",
    "import src.ftp as ftp\n",
    "\n",
    "# Setup the root path of the application\n",
    "project_path = ut.project_path()\n",
    "\n",
    "# Get contentUrl from metadata file\n",
    "meta_filename = f\"{project_path}/meta/mosquito_alert/analytic_tables.json\"\n",
    "ut.info_meta(meta_filename)"
   ]
  },
  {
   "cell_type": "markdown",
   "id": "fancy-sunglasses",
   "metadata": {},
   "source": [
    "## Dataset: _tigaserver_app_tigauser_"
   ]
  },
  {
   "cell_type": "markdown",
   "id": "determined-treasurer",
   "metadata": {
    "lines_to_next_cell": 0
   },
   "source": [
    "### 1. Distribution by SFTP protocol from MosquitoAlert webserver"
   ]
  },
  {
   "cell_type": "markdown",
   "id": "fewer-disorder",
   "metadata": {
    "lines_to_next_cell": 0
   },
   "source": [
    "\n",
    "If we would like to download the dataset _tigaserver_app_tigauser_ we just\n",
    "needs its contentUrl information. Note that _analytic_tables_ has many\n",
    "parts (datasets) and one of those is _tigaserver_app_tigauser_ which is the\n",
    "first in the list of the _hasPart_ key attribute of the metadata file.\n"
   ]
  },
  {
   "cell_type": "code",
   "execution_count": null,
   "id": "serious-ambassador",
   "metadata": {},
   "outputs": [],
   "source": [
    "# Get the dataset tigaserver_app_tigauser form the _analytic_tables_ catalog\n",
    "contentUrl, dataset_name, distr_name = ut.get_meta(\n",
    "    meta_filename, idx_distribution=0, idx_hasPart=0, parse=True\n",
    ")\n",
    "\n",
    "# Make folders for data download\n",
    "path = f\"{project_path}/data/{dataset_name}/{distr_name}\"\n",
    "ut.makedirs(path)"
   ]
  },
  {
   "cell_type": "code",
   "execution_count": null,
   "id": "standing-nursery",
   "metadata": {},
   "outputs": [],
   "source": [
    "# Insert user password to connect by ftp\n",
    "password = input()\n",
    "\n",
    "# Get the dataframe\n",
    "df = ftp.read_csv_sftp(\n",
    "    hostname=contentUrl.hostname,\n",
    "    port=contentUrl.port,\n",
    "    username=contentUrl.username,\n",
    "    password=password,\n",
    "    remotepath=contentUrl.path,\n",
    ")\n",
    "\n",
    "df.info()"
   ]
  },
  {
   "cell_type": "code",
   "execution_count": null,
   "id": "freelance-environment",
   "metadata": {},
   "outputs": [],
   "source": [
    "# Save reports on CSV or parquet\n",
    "filename = f\"{path}/dataset\"\n",
    "df.to_parquet(f\"{filename}.parquet\")  # very low file-size (need to install pyArrow)\n",
    "df.to_csv(f\"{filename}.csv\")  # x10 size if compared with the dataframe"
   ]
  }
 ],
 "metadata": {
  "jupytext": {
   "cell_metadata_filter": "-all",
   "main_language": "python",
   "notebook_metadata_filter": "-all"
  }
 },
 "nbformat": 4,
 "nbformat_minor": 5
}
