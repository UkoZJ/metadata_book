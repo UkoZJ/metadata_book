{
 "cells": [
  {
   "cell_type": "markdown",
   "id": "forward-compatibility",
   "metadata": {},
   "source": [
    "# Catalog: _tigapics_"
   ]
  },
  {
   "cell_type": "code",
   "execution_count": null,
   "id": "grand-divorce",
   "metadata": {},
   "outputs": [],
   "source": [
    "import requests\n",
    "import pandas as pd\n",
    "\n",
    "import src.utils as ut\n",
    "\n",
    "# Setup the root path of the application\n",
    "project_path = ut.project_path()\n",
    "\n",
    "# Get contentUrl from metadata file\n",
    "meta_filename = f'{project_path}/meta/mosquito_alert/tigapics.json'\n",
    "ut.info_meta(meta_filename)"
   ]
  },
  {
   "cell_type": "markdown",
   "id": "comprehensive-productivity",
   "metadata": {},
   "source": [
    "## Dataset: _tigapics_mosquitoalert_"
   ]
  },
  {
   "cell_type": "markdown",
   "id": "prostate-sacrifice",
   "metadata": {},
   "source": [
    "### 1. Distribution by image download from MosquitoAlert webserver\n",
    "\n",
    "This distribution allows to download individual pictures (adults and sites)\n",
    "that can be viewed at the Mosquito Alert map webserver given a picture IID."
   ]
  },
  {
   "cell_type": "code",
   "execution_count": null,
   "id": "imperial-angola",
   "metadata": {},
   "outputs": [],
   "source": [
    "# Get metadata\n",
    "contentUrl, dataset_name, distr_name = ut.get_meta(\n",
    "    meta_filename, idx_distribution=1, idx_hasPart=0)\n",
    "\n",
    "# Make folders for data download\n",
    "path = f'{project_path}/data/{dataset_name}/{distr_name}'\n",
    "ut.makedirs(path)"
   ]
  },
  {
   "cell_type": "markdown",
   "id": "continental-engineering",
   "metadata": {},
   "source": [
    "In order to get a picture from the [Mosquito Alert public map](http://webserver.mosquitoalert.com/static/tigapublic/spain.html#/en/)\n",
    "we should know its file-name (ID hash and file extension). The simplest way\n",
    "to get one is to check visually the map, for example as given below:"
   ]
  },
  {
   "cell_type": "code",
   "execution_count": null,
   "id": "convenient-collins",
   "metadata": {},
   "outputs": [],
   "source": [
    "# Set up an picture ID file-name and get the relative URL address\n",
    "ID_PICNAME = 'a67c2ad2-09b6-4dbe-9cd0-2536a91e17f3.jpg'\n",
    "contentUrl_pic = contentUrl.format(ID_PICNAME=ID_PICNAME)"
   ]
  },
  {
   "cell_type": "markdown",
   "id": "exempt-chamber",
   "metadata": {},
   "source": [
    "\n",
    "Note that this particular ID corresponds to the below displayed mosquito adult\n",
    "picture available on the [Mosquito Alert public map](http://webserver.mosquitoalert.com/static/tigapublic/spain.html#/en/).\n",
    "\n",
    "<p align=\"center\">\n",
    "  <img src=\"http://webserver.mosquitoalert.com/media/tigapics/a67c2ad2-09b6-4dbe-9cd0-2536a91e17f3.jpg\" alt=\"Aedes albopictus\" height=\"400\"/>\n",
    "</p>\n",
    "\n",
    "Another way to get a picture ID is to get the _reports_ dataset,\n",
    "where the measured variable _movelab_annotation_ is a dictionary with key\n",
    "_photo_html_ that gives photo _href_ (ID) relative to a given report."
   ]
  },
  {
   "cell_type": "code",
   "execution_count": null,
   "id": "brave-investigation",
   "metadata": {},
   "outputs": [],
   "source": [
    "# Download the picture and save it\n",
    "r = requests.get(contentUrl_pic )\n",
    "with open(f'{path}/{ID_PICNAME}', 'wb') as f:\n",
    "    f.write(r.content)"
   ]
  },
  {
   "cell_type": "markdown",
   "id": "informational-domestic",
   "metadata": {},
   "source": [
    "## Dataset: _tigapics_labels_bioimagearchive_"
   ]
  },
  {
   "cell_type": "markdown",
   "id": "employed-bangkok",
   "metadata": {},
   "source": [
    "### 1. Distribution by image download from BioStudies repository\n",
    "\n",
    "This dataset distribution allows to download the labels that describe the\n",
    "_tigapics_bioimagearchive_ dataset."
   ]
  },
  {
   "cell_type": "code",
   "execution_count": null,
   "id": "analyzed-phrase",
   "metadata": {},
   "outputs": [],
   "source": [
    "# Get metadata\n",
    "contentUrl, dataset_name, distr_name = ut.get_meta(\n",
    "    meta_filename, idx_distribution=0, idx_hasPart=1)\n",
    "\n",
    "# Make folders for data download\n",
    "path = f'{project_path}/data/{dataset_name}/{distr_name}'\n",
    "ut.makedirs(path)"
   ]
  },
  {
   "cell_type": "code",
   "execution_count": null,
   "id": "searching-alabama",
   "metadata": {},
   "outputs": [],
   "source": [
    "# Download the file list of labels and save it\n",
    "r = requests.get(contentUrl)\n",
    "with open(f'{path}/labels.tsv', 'wb') as f:\n",
    "    f.write(r.content)\n",
    "\n",
    "# Get the labels into a dataframe\n",
    "df_labels = pd.read_csv(f'{path}/labels.tsv', sep='\\t')\n",
    "df_labels.head()"
   ]
  },
  {
   "cell_type": "markdown",
   "id": "divine-walnut",
   "metadata": {},
   "source": [
    "## Dataset: _tigapics_bioimagearchive_"
   ]
  },
  {
   "cell_type": "markdown",
   "id": "alike-invite",
   "metadata": {},
   "source": [
    "### 1. Distribution by single image download from the BioImage Archive repository\n",
    "\n",
    "This distribution allows to download individual pictures of mosquito adults \n",
    "useful for machine-learning classification tasks."
   ]
  },
  {
   "cell_type": "code",
   "execution_count": null,
   "id": "legendary-escape",
   "metadata": {},
   "outputs": [],
   "source": [
    "# Get metadata\n",
    "contentUrl, dataset_name, distr_name = ut.get_meta(\n",
    "    meta_filename, idx_distribution=0, idx_hasPart=2)\n",
    "\n",
    "# Make folders for data download\n",
    "path = f'{project_path}/data/{dataset_name}/{distr_name}'\n",
    "ut.makedirs(path)"
   ]
  },
  {
   "cell_type": "code",
   "execution_count": null,
   "id": "radical-report",
   "metadata": {
    "lines_to_next_cell": 0
   },
   "outputs": [],
   "source": []
  },
  {
   "cell_type": "markdown",
   "id": "accessible-cigarette",
   "metadata": {},
   "source": [
    "In order to get a picture from the [Mosquito Alert BioImage Archive](https://www.ebi.ac.uk/biostudies/studies/S-BIAD249/)\n",
    "we should know the relative species and file-name ID labels. This information\n",
    "is provided by the _tigapics_bioimagearchive_labels_ dataset. For example, we\n",
    "just take the first entry of this label dataset."
   ]
  },
  {
   "cell_type": "code",
   "execution_count": null,
   "id": "progressive-duncan",
   "metadata": {},
   "outputs": [],
   "source": [
    "# Set up the picture ID and get the relative URL address\n",
    "CLASS, ID_PICNAME = df_labels.iloc[0]['Files'].split('/')\n",
    "contentUrl_pic = contentUrl.format(CLASS=CLASS, ID_PICNAME=ID_PICNAME)"
   ]
  },
  {
   "cell_type": "code",
   "execution_count": null,
   "id": "prescription-tourist",
   "metadata": {},
   "outputs": [],
   "source": [
    "# Download the picture and save it\n",
    "r = requests.get(contentUrl_pic )\n",
    "with open(f'{path}/{ID_PICNAME}', 'wb') as f:\n",
    "    f.write(r.content)"
   ]
  },
  {
   "cell_type": "markdown",
   "id": "coupled-indicator",
   "metadata": {},
   "source": [
    "### 2. Distribution by image-chunks download from BioStudies repository\n",
    "\n",
    "This distribution allows to download pictures of mosquito adults in chunks by\n",
    "classes that may correspond to species."
   ]
  },
  {
   "cell_type": "code",
   "execution_count": null,
   "id": "directed-aruba",
   "metadata": {},
   "outputs": [],
   "source": [
    "# Get metadata\n",
    "contentUrl, dataset_name, distr_name = ut.get_meta(\n",
    "    meta_filename, idx_distribution=1, idx_hasPart=2)\n",
    "\n",
    "# Make folders for data download\n",
    "path = f'{project_path}/data/{dataset_name}/{distr_name}'\n",
    "ut.makedirs(path)"
   ]
  },
  {
   "cell_type": "code",
   "execution_count": null,
   "id": "false-scoop",
   "metadata": {
    "lines_to_next_cell": 0
   },
   "outputs": [],
   "source": []
  },
  {
   "cell_type": "markdown",
   "id": "developing-belle",
   "metadata": {},
   "source": [
    "In order to get a picture from the [Mosquito Alert BioImage Archive](https://www.ebi.ac.uk/biostudies/studies/S-BIAD249/)\n",
    "we should know the relative class-chunks available. One may chose between\n",
    "_Aedes_albopictus_, _Aedes_aegypti_, _Aedes_japonicus_, _Aedes_koreicus_, \n",
    "_Japonicus_koreicus_, _Complex_, _Culex_, _Other_species_ and _Not_sure_."
   ]
  },
  {
   "cell_type": "code",
   "execution_count": null,
   "id": "wrapped-rocket",
   "metadata": {},
   "outputs": [],
   "source": [
    "# Set up the chunk-species\n",
    "CLASS = 'Aedes_japonicus'\n",
    "contentUrl_pic = contentUrl.format(CLASS=CLASS)"
   ]
  },
  {
   "cell_type": "code",
   "execution_count": null,
   "id": "processed-basketball",
   "metadata": {},
   "outputs": [],
   "source": [
    "# Download the picture and save it\n",
    "r = requests.get(contentUrl_pic )\n",
    "with open(f'{path}/{CLASS}.zip', 'wb') as f:\n",
    "    f.write(r.content)"
   ]
  },
  {
   "cell_type": "code",
   "execution_count": null,
   "id": "occasional-italian",
   "metadata": {},
   "outputs": [],
   "source": []
  }
 ],
 "metadata": {
  "jupytext": {
   "cell_metadata_filter": "-all",
   "main_language": "python",
   "notebook_metadata_filter": "-all"
  }
 },
 "nbformat": 4,
 "nbformat_minor": 5
}
