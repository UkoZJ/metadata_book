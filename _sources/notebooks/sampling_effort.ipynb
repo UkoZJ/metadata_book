{
 "cells": [
  {
   "cell_type": "markdown",
   "id": "fallen-sapphire",
   "metadata": {},
   "source": [
    "# Dataset: _sampling_effort_"
   ]
  },
  {
   "cell_type": "code",
   "execution_count": null,
   "id": "iraqi-louis",
   "metadata": {},
   "outputs": [],
   "source": [
    "import pandas as pd\n",
    "import requests, zipfile, io, os\n",
    "from bs4 import BeautifulSoup\n",
    "import urllib.parse\n",
    "\n",
    "import src.utils as ut\n",
    "\n",
    "# Setup the root path of the application\n",
    "project_path = ut.project_path()\n",
    "\n",
    "# Get contentUrl from metadata file\n",
    "meta_filename = f\"{project_path}/meta/mosquito_alert/sampling_effort.json\"\n",
    "ut.info_meta(meta_filename)"
   ]
  },
  {
   "cell_type": "markdown",
   "id": "fallen-bhutan",
   "metadata": {
    "lines_to_next_cell": 2
   },
   "source": [
    "## 1. Distribution from Zenodo cloud\n",
    "\n",
    "This dataset is updated nightly and the most recent version can be downloaded\n",
    "from Zenodo at https://doi.org/10.5281/zenodo.5802476. This URL will always\n",
    "resolve to the most recent version of the data."
   ]
  },
  {
   "cell_type": "code",
   "execution_count": null,
   "id": "massive-playlist",
   "metadata": {},
   "outputs": [],
   "source": [
    "# Get metadata\n",
    "contentUrl, dataset_name, distr_name = ut.get_meta(\n",
    "    meta_filename, idx_distribution=0, idx_hasPart=None\n",
    ")\n",
    "\n",
    "# Make folders for data download\n",
    "path = f\"{project_path}/data/{dataset_name}/{distr_name}\"\n",
    "ut.makedirs(path)"
   ]
  },
  {
   "cell_type": "code",
   "execution_count": null,
   "id": "attempted-allen",
   "metadata": {},
   "outputs": [],
   "source": [
    "# Download and open the zip container\n",
    "\n",
    "# Get the latest zenodo file version of the dataset\n",
    "r = requests.get(contentUrl)\n",
    "file_url = BeautifulSoup(r.content).find(\"a\", {\"class\": \"filename\"})[\"href\"]\n",
    "file_contentUrl = urllib.parse.urljoin(r.url, file_url)\n",
    "\n",
    "# Download the dataset\n",
    "r_file = requests.get(file_contentUrl)\n",
    "z = zipfile.ZipFile(io.BytesIO(r_file.content))"
   ]
  },
  {
   "cell_type": "markdown",
   "id": "animal-baking",
   "metadata": {},
   "source": [
    "We have the option to extract all the files into a distribution folder."
   ]
  },
  {
   "cell_type": "code",
   "execution_count": null,
   "id": "attended-performer",
   "metadata": {},
   "outputs": [],
   "source": [
    "z.extractall(path)"
   ]
  },
  {
   "cell_type": "code",
   "execution_count": null,
   "id": "visible-quantity",
   "metadata": {},
   "outputs": [],
   "source": [
    "# Load the 0.05 degree cell resolution dataset into a dataframe\n",
    "for s in z.namelist():\n",
    "    if s.find(\"cellres_05.csv.gz\") != -1:\n",
    "        filename = s\n",
    "df_05 = pd.read_csv(f\"{path}/{filename}\")\n",
    "df_05.info()"
   ]
  },
  {
   "cell_type": "markdown",
   "id": "angry-produce",
   "metadata": {},
   "source": [
    "## 2. Distribution from MosquitoAlert Github repository"
   ]
  },
  {
   "cell_type": "code",
   "execution_count": null,
   "id": "august-child",
   "metadata": {},
   "outputs": [],
   "source": [
    "# Get metadata\n",
    "contentUrl, dataset_name, distr_name = ut.get_meta(\n",
    "    meta_filename, idx_distribution=1, idx_hasPart=None\n",
    ")\n",
    "\n",
    "# Make folders for data download\n",
    "path = f\"{project_path}/data/{dataset_name}/{distr_name}\"\n",
    "ut.makedirs(path)"
   ]
  },
  {
   "cell_type": "code",
   "execution_count": null,
   "id": "present-democracy",
   "metadata": {},
   "outputs": [],
   "source": [
    "# Download the dataset\n",
    "\n",
    "# Get the latest GitHub file version of the dataset\n",
    "for url in contentUrl:\n",
    "    r = requests.get(url)\n",
    "    filename = os.path.basename(url)\n",
    "    with open(f\"{path}/{filename}\", \"wb\") as f:\n",
    "        f.write(r.content)"
   ]
  }
 ],
 "metadata": {
  "jupytext": {
   "cell_metadata_filter": "-all",
   "main_language": "python",
   "notebook_metadata_filter": "-all"
  }
 },
 "nbformat": 4,
 "nbformat_minor": 5
}
