{
 "cells": [
  {
   "cell_type": "markdown",
   "id": "dangerous-algorithm",
   "metadata": {},
   "source": [
    "# Dataset: _model_tables_"
   ]
  },
  {
   "cell_type": "code",
   "execution_count": null,
   "id": "exciting-print",
   "metadata": {},
   "outputs": [],
   "source": [
    "import requests\n",
    "\n",
    "import src.utils as ut\n",
    "import src.ftp as ftp\n",
    "\n",
    "# Setup the root path of the application\n",
    "project_path = ut.project_path()\n",
    "\n",
    "# Get contentUrl from metadata file\n",
    "meta_filename = f\"{project_path}/meta/mosquito_alert/model_tables.json\"\n",
    "ut.info_meta(meta_filename)"
   ]
  },
  {
   "cell_type": "markdown",
   "id": "automotive-grain",
   "metadata": {},
   "source": [
    "## Part 1: _encounter_prob_monthly_grid_\n",
    "\n",
    "### 1.1. Distribution by HTTP download from MosquitoAlert webserver\n",
    "\n",
    "This distribution allows to download the estimated probability of encountering\n",
    "for a given type of mosquito on monthly basis. This information is displayed\n",
    "on the [Mosquito Alert public map](http://webserver.mosquitoalert.com/static/tigapublic/spain.html#/en/)."
   ]
  },
  {
   "cell_type": "code",
   "execution_count": null,
   "id": "featured-negotiation",
   "metadata": {},
   "outputs": [],
   "source": [
    "# Get metadata\n",
    "contentUrl, dataset_name, distr_name = ut.get_meta(\n",
    "    meta_filename, idx_distribution=0, idx_hasPart=0\n",
    ")\n",
    "\n",
    "# Make folders for data download\n",
    "path = f\"{project_path}/data/{dataset_name}/{distr_name}\"\n",
    "ut.makedirs(path)"
   ]
  },
  {
   "cell_type": "markdown",
   "id": "possible-criminal",
   "metadata": {},
   "source": [
    "In order to get a model output we need to provide the mosquito type, year and\n",
    "month."
   ]
  },
  {
   "cell_type": "code",
   "execution_count": null,
   "id": "tired-formation",
   "metadata": {},
   "outputs": [],
   "source": [
    "# Set mosquito type ('tig' for Aedes Albopictus and 'jap' for Aedes Japonicus)\n",
    "MOSQUITO_TYPE = \"tig\"\n",
    "# For example get all the months for a given year\n",
    "YEAR = \"2021\"\n",
    "MONTH = [str(i).zfill(2) for i in range(1, 13)]\n",
    "\n",
    "for m in MONTH:\n",
    "    # Download each CSV-file\n",
    "    r = requests.get(contentUrl.format(MOSQUITO_TYPE=MOSQUITO_TYPE, YEAR=YEAR, MONTH=m))\n",
    "    with open(f\"{path}/{MOSQUITO_TYPE}_{m}-{YEAR}.csv\", \"wb\") as f:\n",
    "        f.write(r.content)"
   ]
  },
  {
   "cell_type": "markdown",
   "id": "middle-portugal",
   "metadata": {
    "lines_to_next_cell": 0
   },
   "source": [
    "### 1.2. Distribution by SFTP download from MosquitoAlert webserver\n",
    "\n",
    "This distribution allows to download exactly the same dataset as above but\n",
    "within SFTP. Before we are able to download the dataset we would need a user\n",
    "name and password to ssh-access a remote machine.\n"
   ]
  },
  {
   "cell_type": "code",
   "execution_count": null,
   "id": "recognized-opinion",
   "metadata": {},
   "outputs": [],
   "source": [
    "# Get metadata\n",
    "contentUrl, dataset_name, distr_name = ut.get_meta(\n",
    "    meta_filename, idx_distribution=1, idx_hasPart=0, parse=True\n",
    ")\n",
    "\n",
    "# Make folders for data download\n",
    "path = f\"{project_path}/data/{dataset_name}/{distr_name}\"\n",
    "ut.makedirs(path)"
   ]
  },
  {
   "cell_type": "code",
   "execution_count": null,
   "id": "conservative-strain",
   "metadata": {},
   "outputs": [],
   "source": [
    "# Set mosquito type ('tig' for Aedes Albopictus and 'jap' for Aedes Japonicus)\n",
    "MOSQUITO_TYPE = \"tig\"\n",
    "# For example get just one months for a given year\n",
    "YEAR = \"2021\"\n",
    "MONTH = \"01\"\n",
    "contentUrl_path = contentUrl.path.format(\n",
    "    MOSQUITO_TYPE=MOSQUITO_TYPE, YEAR=YEAR, MONTH=MONTH\n",
    ")"
   ]
  },
  {
   "cell_type": "code",
   "execution_count": null,
   "id": "relevant-department",
   "metadata": {},
   "outputs": [],
   "source": [
    "# Insert user password to connect by ftp\n",
    "password = input()\n",
    "\n",
    "# Get the dataframe\n",
    "df = ftp.read_csv_sftp(\n",
    "    hostname=contentUrl.hostname,\n",
    "    port=contentUrl.port,\n",
    "    username=contentUrl.username,\n",
    "    password=password,\n",
    "    remotepath=contentUrl_path,\n",
    ")\n",
    "\n",
    "df.info()"
   ]
  },
  {
   "cell_type": "code",
   "execution_count": null,
   "id": "geographic-morocco",
   "metadata": {},
   "outputs": [],
   "source": [
    "# Save reports on CSV or parquet\n",
    "filename = f\"{path}/{MOSQUITO_TYPE}_{m}-{YEAR}\"\n",
    "df.to_parquet(f\"{filename}.parquet\")  # very low file-size (need to install pyArrow)\n",
    "df.to_csv(f\"{filename}.csv\")  # x10 size if compared with the dataframe"
   ]
  },
  {
   "cell_type": "code",
   "execution_count": null,
   "id": "saved-asbestos",
   "metadata": {},
   "outputs": [],
   "source": []
  }
 ],
 "metadata": {
  "jupytext": {
   "cell_metadata_filter": "-all",
   "main_language": "python",
   "notebook_metadata_filter": "-all"
  }
 },
 "nbformat": 4,
 "nbformat_minor": 5
}
